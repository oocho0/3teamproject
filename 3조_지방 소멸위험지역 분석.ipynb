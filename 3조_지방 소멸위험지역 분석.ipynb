{
 "cells": [
  {
   "cell_type": "markdown",
   "id": "30c763bc-4827-4fd6-a0d5-a819838bae9e",
   "metadata": {},
   "source": [
    "## 3조\n",
    "# 지방 소멸위험지역 분석"
   ]
  },
  {
   "cell_type": "code",
   "execution_count": null,
   "id": "1a96e90a-a02b-4a90-9e4e-13bc51ace363",
   "metadata": {},
   "outputs": [],
   "source": [
    "import numpy as np\n",
    "import pandas as pd"
   ]
  }
 ],
 "metadata": {
  "kernelspec": {
   "display_name": "eduvenv",
   "language": "python",
   "name": "eduvenv"
  },
  "language_info": {
   "codemirror_mode": {
    "name": "ipython",
    "version": 3
   },
   "file_extension": ".py",
   "mimetype": "text/x-python",
   "name": "python",
   "nbconvert_exporter": "python",
   "pygments_lexer": "ipython3",
   "version": "3.9.15"
  }
 },
 "nbformat": 4,
 "nbformat_minor": 5
}

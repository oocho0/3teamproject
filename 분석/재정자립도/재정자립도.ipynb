{
 "cells": [
  {
   "cell_type": "markdown",
   "id": "4f083770-90ea-470a-a84c-39c713039ba1",
   "metadata": {
    "tags": []
   },
   "source": [
    "#### 재정자립도\n",
    "- 행정안전부\n",
    "    - 5년 동안의 ( 지차체의 자체 수입의 합 / 지차체 예산규모의 합) * 100\n",
    "    - 최근 5년간 지자체 일반회계 규모 대비 자체수입 변화를 통해 지방재정의 여건 반영\n",
    "\n",
    "- 추출 데이터 재정자립도\n",
    "    - 재정자립도=(자체수입÷자치단체 예산규모)×100(%)\n",
    "    - 재정자립도: 일반회계의 세입중 지방세와 세외수입의 비율\n",
    "    - 재정수입의 자체 충당 능력을 나타내는 세입분석지표로 재정자립도가 높을수록 재정운영의 자립능력이 우수함을 의미\n",
    "    - 자생적 지역경제 생태계조성을 위한 재정지원, 지방재정의 발전적 운영 등에 활용\n",
    "    \n",
    "    - 데이터 출처\n",
    "        - 행정안전부(재정정책과), 2022, 2022.12.23, 재정자립도(시도/시/군/구)\n",
    "        - https://kosis.kr/statHtml/statHtml.do?orgId=101&tblId=DT_1YL20921&conn_path=I2"
   ]
  },
  {
   "cell_type": "code",
   "execution_count": 81,
   "id": "8be6bbb6-2d79-4072-b5fb-1d46c1a9f69e",
   "metadata": {},
   "outputs": [],
   "source": [
    "import pandas as pd\n",
    "import numpy as np\n",
    "import matplotlib.pyplot as plt\n",
    "import seaborn as sns"
   ]
  },
  {
   "cell_type": "code",
   "execution_count": 82,
   "id": "e3349522-8258-45ed-84a2-b6d9a4ed52be",
   "metadata": {},
   "outputs": [],
   "source": [
    "import platform\n",
    "\n",
    "from matplotlib import font_manager, rc\n",
    "plt.rcParams['axes.unicode_minus'] = False\n",
    "\n",
    "if platform.system() == 'Darwin':  # 맥OS \n",
    "    rc('font', family='AppleGothic')\n",
    "elif platform.system() == 'Windows':  # 윈도우\n",
    "    path = \"c:/Windows/Fonts/malgun.ttf\"\n",
    "    font_name = font_manager.FontProperties(fname=path).get_name()\n",
    "    rc('font', family=font_name)\n",
    "else:\n",
    "    print('Unknown system...  sorry~~~')"
   ]
  },
  {
   "cell_type": "code",
   "execution_count": 83,
   "id": "d577c21d-9572-427b-aeb6-35445441ce73",
   "metadata": {},
   "outputs": [],
   "source": [
    "from IPython.core.interactiveshell import InteractiveShell\n",
    "InteractiveShell.ast_node_interactivity=\"all\""
   ]
  },
  {
   "cell_type": "code",
   "execution_count": 94,
   "id": "8b7dbe65-b30b-4d24-ac1f-8c81b27dba57",
   "metadata": {},
   "outputs": [],
   "source": [
    "data_original = pd.read_csv(\"./data/재정자립도_시군구_2016_2020.csv\")"
   ]
  },
  {
   "cell_type": "code",
   "execution_count": 95,
   "id": "b09399b7-380a-4c2e-a463-45bff76550f6",
   "metadata": {
    "tags": []
   },
   "outputs": [
    {
     "data": {
      "text/html": [
       "<div>\n",
       "<style scoped>\n",
       "    .dataframe tbody tr th:only-of-type {\n",
       "        vertical-align: middle;\n",
       "    }\n",
       "\n",
       "    .dataframe tbody tr th {\n",
       "        vertical-align: top;\n",
       "    }\n",
       "\n",
       "    .dataframe thead th {\n",
       "        text-align: right;\n",
       "    }\n",
       "</style>\n",
       "<table border=\"1\" class=\"dataframe\">\n",
       "  <thead>\n",
       "    <tr style=\"text-align: right;\">\n",
       "      <th></th>\n",
       "      <th>행정구역별(1)</th>\n",
       "      <th>행정구역별(2)</th>\n",
       "      <th>2016</th>\n",
       "      <th>2017</th>\n",
       "      <th>2018</th>\n",
       "      <th>2019</th>\n",
       "      <th>2020</th>\n",
       "    </tr>\n",
       "  </thead>\n",
       "  <tbody>\n",
       "    <tr>\n",
       "      <th>0</th>\n",
       "      <td>행정구역별(1)</td>\n",
       "      <td>행정구역별(2)</td>\n",
       "      <td>재정자립도(세입과목개편후)</td>\n",
       "      <td>재정자립도(세입과목개편후)</td>\n",
       "      <td>재정자립도(세입과목개편후)</td>\n",
       "      <td>재정자립도(세입과목개편후)</td>\n",
       "      <td>재정자립도(세입과목개편후)</td>\n",
       "    </tr>\n",
       "    <tr>\n",
       "      <th>1</th>\n",
       "      <td>부산광역시</td>\n",
       "      <td>소계</td>\n",
       "      <td>50.9</td>\n",
       "      <td>52.9</td>\n",
       "      <td>52.3</td>\n",
       "      <td>50.0</td>\n",
       "      <td>49.2</td>\n",
       "    </tr>\n",
       "    <tr>\n",
       "      <th>2</th>\n",
       "      <td>부산광역시</td>\n",
       "      <td>중구</td>\n",
       "      <td>21.7</td>\n",
       "      <td>22.8</td>\n",
       "      <td>21.4</td>\n",
       "      <td>22.2</td>\n",
       "      <td>23.6</td>\n",
       "    </tr>\n",
       "    <tr>\n",
       "      <th>3</th>\n",
       "      <td>부산광역시</td>\n",
       "      <td>서구</td>\n",
       "      <td>10.3</td>\n",
       "      <td>11.4</td>\n",
       "      <td>11.6</td>\n",
       "      <td>11.7</td>\n",
       "      <td>12.2</td>\n",
       "    </tr>\n",
       "    <tr>\n",
       "      <th>4</th>\n",
       "      <td>부산광역시</td>\n",
       "      <td>동구</td>\n",
       "      <td>14.8</td>\n",
       "      <td>15.3</td>\n",
       "      <td>15.3</td>\n",
       "      <td>15.6</td>\n",
       "      <td>15.8</td>\n",
       "    </tr>\n",
       "  </tbody>\n",
       "</table>\n",
       "</div>"
      ],
      "text/plain": [
       "   행정구역별(1)  행정구역별(2)            2016            2017            2018  \\\n",
       "0  행정구역별(1)  행정구역별(2)  재정자립도(세입과목개편후)  재정자립도(세입과목개편후)  재정자립도(세입과목개편후)   \n",
       "1     부산광역시        소계            50.9            52.9            52.3   \n",
       "2     부산광역시        중구            21.7            22.8            21.4   \n",
       "3     부산광역시        서구            10.3            11.4            11.6   \n",
       "4     부산광역시        동구            14.8            15.3            15.3   \n",
       "\n",
       "             2019            2020  \n",
       "0  재정자립도(세입과목개편후)  재정자립도(세입과목개편후)  \n",
       "1            50.0            49.2  \n",
       "2            22.2            23.6  \n",
       "3            11.7            12.2  \n",
       "4            15.6            15.8  "
      ]
     },
     "execution_count": 95,
     "metadata": {},
     "output_type": "execute_result"
    },
    {
     "name": "stdout",
     "output_type": "stream",
     "text": [
      "<class 'pandas.core.frame.DataFrame'>\n",
      "RangeIndex: 217 entries, 0 to 216\n",
      "Data columns (total 7 columns):\n",
      " #   Column    Non-Null Count  Dtype \n",
      "---  ------    --------------  ----- \n",
      " 0   행정구역별(1)  217 non-null    object\n",
      " 1   행정구역별(2)  217 non-null    object\n",
      " 2   2016      217 non-null    object\n",
      " 3   2017      217 non-null    object\n",
      " 4   2018      217 non-null    object\n",
      " 5   2019      217 non-null    object\n",
      " 6   2020      217 non-null    object\n",
      "dtypes: object(7)\n",
      "memory usage: 12.0+ KB\n"
     ]
    }
   ],
   "source": [
    "data_original.head()\n",
    "data_original.info()"
   ]
  },
  {
   "cell_type": "code",
   "execution_count": 96,
   "id": "097f2f75-0082-4f9d-9b3f-87ca17079540",
   "metadata": {},
   "outputs": [],
   "source": [
    "data_set = data_original"
   ]
  },
  {
   "cell_type": "code",
   "execution_count": 97,
   "id": "01e92b14-b9c1-43a1-8ce6-28bdf3f28973",
   "metadata": {},
   "outputs": [
    {
     "name": "stdout",
     "output_type": "stream",
     "text": [
      "<class 'pandas.core.frame.DataFrame'>\n",
      "RangeIndex: 217 entries, 0 to 216\n",
      "Data columns (total 7 columns):\n",
      " #   Column   Non-Null Count  Dtype \n",
      "---  ------   --------------  ----- \n",
      " 0   sido     217 non-null    object\n",
      " 1   sigungu  217 non-null    object\n",
      " 2   2016     217 non-null    object\n",
      " 3   2017     217 non-null    object\n",
      " 4   2018     217 non-null    object\n",
      " 5   2019     217 non-null    object\n",
      " 6   2020     217 non-null    object\n",
      "dtypes: object(7)\n",
      "memory usage: 12.0+ KB\n"
     ]
    }
   ],
   "source": [
    "data_set.rename(columns={\"행정구역별(1)\":\"sido\",\"행정구역별(2)\":\"sigungu\"},inplace=True)\n",
    "data_set.info()"
   ]
  },
  {
   "cell_type": "code",
   "execution_count": 98,
   "id": "b03145a9-4a32-4ab4-a72b-d86caeb764be",
   "metadata": {},
   "outputs": [],
   "source": [
    "locations = [\"동구\", \"서구\", \"영도구\", \"남구\", \"강화군\", \"옹진군\", \"가평군\", \"연천군\", \"고성군\", \"삼척시\", \"양구군\", \"양양군\",\n",
    "             \"영월군\", \"정선군\", \"철원군\", \"태백시\", \"평창군\", \"홍천군\", \"화천군\", \"횡성군\", \"괴산군\", \"단양군\", \"보은군\", \"영동군\",\n",
    "             \"옥천군\", \"제천시\", \"공주시\", \"금산군\", \"논산시\", \"보령시\", \"부여군\", \"서천군\", \"예산군\", \"청양군\", \"태안군\", \"고창군\", \"김제시\",\n",
    "             \"남원시\", \"무주군\", \"부안군\", \"순창군\", \"임실군\", \"장수군\", \"정읍시\", \"진안군\", \"강진군\", \"고흥군\", \"곡성군\", \"구례군\", \"담양군\",\n",
    "             \"보성군\", \"신안군\", \"영광군\", \"영암군\", \"완도군\", \"장성군\", \"장흥군\", \"진도군\", \"함평군\", \"해남군\", \"화순군\", \"고령군\", \"군위군\",\n",
    "             \"문경시\", \"봉화군\", \"상주시\", \"성주군\", \"안동시\", \"영덕군\", \"영양군\", \"영주시\", \"영천시\", \"울릉군\", \"울진군\", \"의성군\", \"청도군\",\n",
    "             \"청송군\", \"거창군\", \"남해군\", \"밀양시\", \"산청군\", \"의령군\", \"창녕군\", \"하동군\", \"함안군\", \"함양군\", \"합천군\"]"
   ]
  },
  {
   "cell_type": "code",
   "execution_count": 99,
   "id": "1d55cf62-7c51-401a-9180-f524212d873e",
   "metadata": {},
   "outputs": [
    {
     "name": "stdout",
     "output_type": "stream",
     "text": [
      "101\n"
     ]
    },
    {
     "data": {
      "text/plain": [
       "동구     6\n",
       "서구     5\n",
       "남구     5\n",
       "고성군    2\n",
       "장성군    1\n",
       "      ..\n",
       "논산시    1\n",
       "금산군    1\n",
       "공주시    1\n",
       "제천시    1\n",
       "합천군    1\n",
       "Name: sigungu, Length: 87, dtype: int64"
      ]
     },
     "execution_count": 99,
     "metadata": {},
     "output_type": "execute_result"
    }
   ],
   "source": [
    "# 인구감소지역 인덱스 찾기\n",
    "danger_idx = []\n",
    "for loc in locations:\n",
    "    idx = data_set[data_set[\"sigungu\"]==loc].index\n",
    "    danger_idx.extend(idx)\n",
    "    \n",
    "print(len(danger_idx))\n",
    "\n",
    "# 위에서 찾은 인덱스로 지역 특정\n",
    "danger_loc = data_set.iloc[danger_idx]\n",
    "\n",
    "# 구 이름이 중복되는 지역 찾기\n",
    "danger_loc[\"sigungu\"].value_counts()"
   ]
  },
  {
   "cell_type": "code",
   "execution_count": 100,
   "id": "8d3ca273-4218-444b-9ee0-b434f3d7514d",
   "metadata": {},
   "outputs": [
    {
     "data": {
      "text/html": [
       "<div>\n",
       "<style scoped>\n",
       "    .dataframe tbody tr th:only-of-type {\n",
       "        vertical-align: middle;\n",
       "    }\n",
       "\n",
       "    .dataframe tbody tr th {\n",
       "        vertical-align: top;\n",
       "    }\n",
       "\n",
       "    .dataframe thead th {\n",
       "        text-align: right;\n",
       "    }\n",
       "</style>\n",
       "<table border=\"1\" class=\"dataframe\">\n",
       "  <thead>\n",
       "    <tr style=\"text-align: right;\">\n",
       "      <th></th>\n",
       "      <th>sido</th>\n",
       "      <th>sigungu</th>\n",
       "      <th>2016</th>\n",
       "      <th>2017</th>\n",
       "      <th>2018</th>\n",
       "      <th>2019</th>\n",
       "      <th>2020</th>\n",
       "    </tr>\n",
       "  </thead>\n",
       "  <tbody>\n",
       "    <tr>\n",
       "      <th>4</th>\n",
       "      <td>부산광역시</td>\n",
       "      <td>동구</td>\n",
       "      <td>14.8</td>\n",
       "      <td>15.3</td>\n",
       "      <td>15.3</td>\n",
       "      <td>15.6</td>\n",
       "      <td>15.8</td>\n",
       "    </tr>\n",
       "    <tr>\n",
       "      <th>20</th>\n",
       "      <td>대구광역시</td>\n",
       "      <td>동구</td>\n",
       "      <td>16.9</td>\n",
       "      <td>17.9</td>\n",
       "      <td>17.0</td>\n",
       "      <td>16.9</td>\n",
       "      <td>17.9</td>\n",
       "    </tr>\n",
       "    <tr>\n",
       "      <th>29</th>\n",
       "      <td>인천광역시</td>\n",
       "      <td>동구</td>\n",
       "      <td>13.7</td>\n",
       "      <td>13.4</td>\n",
       "      <td>10.4</td>\n",
       "      <td>9.0</td>\n",
       "      <td>11.5</td>\n",
       "    </tr>\n",
       "    <tr>\n",
       "      <th>40</th>\n",
       "      <td>광주광역시</td>\n",
       "      <td>동구</td>\n",
       "      <td>13.4</td>\n",
       "      <td>14.0</td>\n",
       "      <td>13.6</td>\n",
       "      <td>11.7</td>\n",
       "      <td>13.8</td>\n",
       "    </tr>\n",
       "    <tr>\n",
       "      <th>46</th>\n",
       "      <td>대전광역시</td>\n",
       "      <td>동구</td>\n",
       "      <td>12.5</td>\n",
       "      <td>12.2</td>\n",
       "      <td>11.5</td>\n",
       "      <td>10.8</td>\n",
       "      <td>11.0</td>\n",
       "    </tr>\n",
       "    <tr>\n",
       "      <th>54</th>\n",
       "      <td>울산광역시</td>\n",
       "      <td>동구</td>\n",
       "      <td>25.5</td>\n",
       "      <td>23.1</td>\n",
       "      <td>20.7</td>\n",
       "      <td>18.6</td>\n",
       "      <td>18.6</td>\n",
       "    </tr>\n",
       "  </tbody>\n",
       "</table>\n",
       "</div>"
      ],
      "text/plain": [
       "     sido sigungu  2016  2017  2018  2019  2020\n",
       "4   부산광역시      동구  14.8  15.3  15.3  15.6  15.8\n",
       "20  대구광역시      동구  16.9  17.9  17.0  16.9  17.9\n",
       "29  인천광역시      동구  13.7  13.4  10.4   9.0  11.5\n",
       "40  광주광역시      동구  13.4  14.0  13.6  11.7  13.8\n",
       "46  대전광역시      동구  12.5  12.2  11.5  10.8  11.0\n",
       "54  울산광역시      동구  25.5  23.1  20.7  18.6  18.6"
      ]
     },
     "execution_count": 100,
     "metadata": {},
     "output_type": "execute_result"
    },
    {
     "data": {
      "text/html": [
       "<div>\n",
       "<style scoped>\n",
       "    .dataframe tbody tr th:only-of-type {\n",
       "        vertical-align: middle;\n",
       "    }\n",
       "\n",
       "    .dataframe tbody tr th {\n",
       "        vertical-align: top;\n",
       "    }\n",
       "\n",
       "    .dataframe thead th {\n",
       "        text-align: right;\n",
       "    }\n",
       "</style>\n",
       "<table border=\"1\" class=\"dataframe\">\n",
       "  <thead>\n",
       "    <tr style=\"text-align: right;\">\n",
       "      <th></th>\n",
       "      <th>sido</th>\n",
       "      <th>sigungu</th>\n",
       "      <th>2016</th>\n",
       "      <th>2017</th>\n",
       "      <th>2018</th>\n",
       "      <th>2019</th>\n",
       "      <th>2020</th>\n",
       "    </tr>\n",
       "  </thead>\n",
       "  <tbody>\n",
       "    <tr>\n",
       "      <th>3</th>\n",
       "      <td>부산광역시</td>\n",
       "      <td>서구</td>\n",
       "      <td>10.3</td>\n",
       "      <td>11.4</td>\n",
       "      <td>11.6</td>\n",
       "      <td>11.7</td>\n",
       "      <td>12.2</td>\n",
       "    </tr>\n",
       "    <tr>\n",
       "      <th>21</th>\n",
       "      <td>대구광역시</td>\n",
       "      <td>서구</td>\n",
       "      <td>14.9</td>\n",
       "      <td>13.7</td>\n",
       "      <td>13.7</td>\n",
       "      <td>13.1</td>\n",
       "      <td>13.7</td>\n",
       "    </tr>\n",
       "    <tr>\n",
       "      <th>35</th>\n",
       "      <td>인천광역시</td>\n",
       "      <td>서구</td>\n",
       "      <td>36.6</td>\n",
       "      <td>36.7</td>\n",
       "      <td>33.4</td>\n",
       "      <td>33.2</td>\n",
       "      <td>31.9</td>\n",
       "    </tr>\n",
       "    <tr>\n",
       "      <th>41</th>\n",
       "      <td>광주광역시</td>\n",
       "      <td>서구</td>\n",
       "      <td>20.7</td>\n",
       "      <td>21.9</td>\n",
       "      <td>20.4</td>\n",
       "      <td>20.1</td>\n",
       "      <td>19.0</td>\n",
       "    </tr>\n",
       "    <tr>\n",
       "      <th>48</th>\n",
       "      <td>대전광역시</td>\n",
       "      <td>서구</td>\n",
       "      <td>20.1</td>\n",
       "      <td>20.0</td>\n",
       "      <td>18.8</td>\n",
       "      <td>17.6</td>\n",
       "      <td>17.6</td>\n",
       "    </tr>\n",
       "  </tbody>\n",
       "</table>\n",
       "</div>"
      ],
      "text/plain": [
       "     sido sigungu  2016  2017  2018  2019  2020\n",
       "3   부산광역시      서구  10.3  11.4  11.6  11.7  12.2\n",
       "21  대구광역시      서구  14.9  13.7  13.7  13.1  13.7\n",
       "35  인천광역시      서구  36.6  36.7  33.4  33.2  31.9\n",
       "41  광주광역시      서구  20.7  21.9  20.4  20.1  19.0\n",
       "48  대전광역시      서구  20.1  20.0  18.8  17.6  17.6"
      ]
     },
     "execution_count": 100,
     "metadata": {},
     "output_type": "execute_result"
    },
    {
     "data": {
      "text/html": [
       "<div>\n",
       "<style scoped>\n",
       "    .dataframe tbody tr th:only-of-type {\n",
       "        vertical-align: middle;\n",
       "    }\n",
       "\n",
       "    .dataframe tbody tr th {\n",
       "        vertical-align: top;\n",
       "    }\n",
       "\n",
       "    .dataframe thead th {\n",
       "        text-align: right;\n",
       "    }\n",
       "</style>\n",
       "<table border=\"1\" class=\"dataframe\">\n",
       "  <thead>\n",
       "    <tr style=\"text-align: right;\">\n",
       "      <th></th>\n",
       "      <th>sido</th>\n",
       "      <th>sigungu</th>\n",
       "      <th>2016</th>\n",
       "      <th>2017</th>\n",
       "      <th>2018</th>\n",
       "      <th>2019</th>\n",
       "      <th>2020</th>\n",
       "    </tr>\n",
       "  </thead>\n",
       "  <tbody>\n",
       "    <tr>\n",
       "      <th>8</th>\n",
       "      <td>부산광역시</td>\n",
       "      <td>남구</td>\n",
       "      <td>23.2</td>\n",
       "      <td>23.3</td>\n",
       "      <td>24.8</td>\n",
       "      <td>22.8</td>\n",
       "      <td>19.7</td>\n",
       "    </tr>\n",
       "    <tr>\n",
       "      <th>22</th>\n",
       "      <td>대구광역시</td>\n",
       "      <td>남구</td>\n",
       "      <td>9.4</td>\n",
       "      <td>9.4</td>\n",
       "      <td>9.5</td>\n",
       "      <td>9.5</td>\n",
       "      <td>11.0</td>\n",
       "    </tr>\n",
       "    <tr>\n",
       "      <th>30</th>\n",
       "      <td>인천광역시</td>\n",
       "      <td>남구</td>\n",
       "      <td>17.2</td>\n",
       "      <td>17.8</td>\n",
       "      <td>-</td>\n",
       "      <td>-</td>\n",
       "      <td>-</td>\n",
       "    </tr>\n",
       "    <tr>\n",
       "      <th>42</th>\n",
       "      <td>광주광역시</td>\n",
       "      <td>남구</td>\n",
       "      <td>12.6</td>\n",
       "      <td>12.8</td>\n",
       "      <td>12.3</td>\n",
       "      <td>11.9</td>\n",
       "      <td>11.4</td>\n",
       "    </tr>\n",
       "    <tr>\n",
       "      <th>53</th>\n",
       "      <td>울산광역시</td>\n",
       "      <td>남구</td>\n",
       "      <td>33.3</td>\n",
       "      <td>32.4</td>\n",
       "      <td>31.2</td>\n",
       "      <td>31.9</td>\n",
       "      <td>28.4</td>\n",
       "    </tr>\n",
       "  </tbody>\n",
       "</table>\n",
       "</div>"
      ],
      "text/plain": [
       "     sido sigungu  2016  2017  2018  2019  2020\n",
       "8   부산광역시      남구  23.2  23.3  24.8  22.8  19.7\n",
       "22  대구광역시      남구   9.4   9.4   9.5   9.5  11.0\n",
       "30  인천광역시      남구  17.2  17.8     -     -     -\n",
       "42  광주광역시      남구  12.6  12.8  12.3  11.9  11.4\n",
       "53  울산광역시      남구  33.3  32.4  31.2  31.9  28.4"
      ]
     },
     "execution_count": 100,
     "metadata": {},
     "output_type": "execute_result"
    }
   ],
   "source": [
    "# 위험지역 동구, 서구, 남구, 고성군 데이터 수정\n",
    "danger_loc[danger_loc[\"sigungu\"]==\"동구\"]\n",
    "danger_loc[danger_loc[\"sigungu\"]==\"서구\"]\n",
    "danger_loc[danger_loc[\"sigungu\"]==\"남구\"]"
   ]
  },
  {
   "cell_type": "code",
   "execution_count": 101,
   "id": "3a252542-b24e-4478-af16-8590b695ffab",
   "metadata": {},
   "outputs": [
    {
     "name": "stderr",
     "output_type": "stream",
     "text": [
      "C:\\Users\\KangMinGu\\AppData\\Local\\Temp\\ipykernel_12944\\3544743147.py:5: SettingWithCopyWarning: \n",
      "A value is trying to be set on a copy of a slice from a DataFrame\n",
      "\n",
      "See the caveats in the documentation: https://pandas.pydata.org/pandas-docs/stable/user_guide/indexing.html#returning-a-view-versus-a-copy\n",
      "  danger_loc.drop(dupli,axis=0,inplace=True)\n"
     ]
    }
   ],
   "source": [
    "# 이름 중복 지역 인덱스 추출\n",
    "dupli = [20,29,40,46,54,35,41,48,8,30,42,53]\n",
    "\n",
    "# 이름 중복 지역 삭제\n",
    "danger_loc.drop(dupli,axis=0,inplace=True)"
   ]
  },
  {
   "cell_type": "code",
   "execution_count": 102,
   "id": "27c1cf77-d506-4d30-af10-72cc3d02e69b",
   "metadata": {},
   "outputs": [
    {
     "data": {
      "text/html": [
       "<div>\n",
       "<style scoped>\n",
       "    .dataframe tbody tr th:only-of-type {\n",
       "        vertical-align: middle;\n",
       "    }\n",
       "\n",
       "    .dataframe tbody tr th {\n",
       "        vertical-align: top;\n",
       "    }\n",
       "\n",
       "    .dataframe thead th {\n",
       "        text-align: right;\n",
       "    }\n",
       "</style>\n",
       "<table border=\"1\" class=\"dataframe\">\n",
       "  <thead>\n",
       "    <tr style=\"text-align: right;\">\n",
       "      <th></th>\n",
       "      <th>sido</th>\n",
       "      <th>sigungu</th>\n",
       "      <th>2016</th>\n",
       "      <th>2017</th>\n",
       "      <th>2018</th>\n",
       "      <th>2019</th>\n",
       "      <th>2020</th>\n",
       "    </tr>\n",
       "  </thead>\n",
       "  <tbody>\n",
       "    <tr>\n",
       "      <th>0</th>\n",
       "      <td>행정구역별(1)</td>\n",
       "      <td>행정구역별(2)</td>\n",
       "      <td>재정자립도(세입과목개편후)</td>\n",
       "      <td>재정자립도(세입과목개편후)</td>\n",
       "      <td>재정자립도(세입과목개편후)</td>\n",
       "      <td>재정자립도(세입과목개편후)</td>\n",
       "      <td>재정자립도(세입과목개편후)</td>\n",
       "    </tr>\n",
       "    <tr>\n",
       "      <th>1</th>\n",
       "      <td>부산광역시</td>\n",
       "      <td>소계</td>\n",
       "      <td>50.9</td>\n",
       "      <td>52.9</td>\n",
       "      <td>52.3</td>\n",
       "      <td>50.0</td>\n",
       "      <td>49.2</td>\n",
       "    </tr>\n",
       "    <tr>\n",
       "      <th>2</th>\n",
       "      <td>부산광역시</td>\n",
       "      <td>중구</td>\n",
       "      <td>21.7</td>\n",
       "      <td>22.8</td>\n",
       "      <td>21.4</td>\n",
       "      <td>22.2</td>\n",
       "      <td>23.6</td>\n",
       "    </tr>\n",
       "    <tr>\n",
       "      <th>6</th>\n",
       "      <td>부산광역시</td>\n",
       "      <td>부산진구</td>\n",
       "      <td>21.3</td>\n",
       "      <td>22.8</td>\n",
       "      <td>20.3</td>\n",
       "      <td>20.0</td>\n",
       "      <td>19.8</td>\n",
       "    </tr>\n",
       "    <tr>\n",
       "      <th>7</th>\n",
       "      <td>부산광역시</td>\n",
       "      <td>동래구</td>\n",
       "      <td>21.4</td>\n",
       "      <td>21.1</td>\n",
       "      <td>20.7</td>\n",
       "      <td>20.7</td>\n",
       "      <td>20.1</td>\n",
       "    </tr>\n",
       "  </tbody>\n",
       "</table>\n",
       "</div>"
      ],
      "text/plain": [
       "       sido   sigungu            2016            2017            2018  \\\n",
       "0  행정구역별(1)  행정구역별(2)  재정자립도(세입과목개편후)  재정자립도(세입과목개편후)  재정자립도(세입과목개편후)   \n",
       "1     부산광역시        소계            50.9            52.9            52.3   \n",
       "2     부산광역시        중구            21.7            22.8            21.4   \n",
       "6     부산광역시      부산진구            21.3            22.8            20.3   \n",
       "7     부산광역시       동래구            21.4            21.1            20.7   \n",
       "\n",
       "             2019            2020  \n",
       "0  재정자립도(세입과목개편후)  재정자립도(세입과목개편후)  \n",
       "1            50.0            49.2  \n",
       "2            22.2            23.6  \n",
       "6            20.0            19.8  \n",
       "7            20.7            20.1  "
      ]
     },
     "execution_count": 102,
     "metadata": {},
     "output_type": "execute_result"
    }
   ],
   "source": [
    "# 인구감소지역을 제외한 안심지역을 추출하기 위해 인구 감소지역 인덱스 추출\n",
    "remove_idx=danger_loc.index\n",
    "\n",
    "# 전체 데이터에서 인구감소지역 제거 >> 안심구역만 남음\n",
    "safe_loc = data_set.drop(remove_idx,axis=0)\n",
    "\n",
    "safe_loc.head()"
   ]
  },
  {
   "cell_type": "code",
   "execution_count": 103,
   "id": "b3aa8a67-8f19-460d-84cf-45c25be5c241",
   "metadata": {},
   "outputs": [
    {
     "name": "stdout",
     "output_type": "stream",
     "text": [
      "<class 'pandas.core.frame.DataFrame'>\n",
      "Int64Index: 113 entries, 2 to 206\n",
      "Data columns (total 7 columns):\n",
      " #   Column   Non-Null Count  Dtype \n",
      "---  ------   --------------  ----- \n",
      " 0   sido     113 non-null    object\n",
      " 1   sigungu  113 non-null    object\n",
      " 2   2016     113 non-null    object\n",
      " 3   2017     113 non-null    object\n",
      " 4   2018     113 non-null    object\n",
      " 5   2019     113 non-null    object\n",
      " 6   2020     113 non-null    object\n",
      "dtypes: object(7)\n",
      "memory usage: 7.1+ KB\n"
     ]
    }
   ],
   "source": [
    "# 필요없는 레코드 삭제\n",
    "sum_idx=data_set[data_set[\"sigungu\"]==\"소계\"].index\n",
    "safe_loc.drop(sum_idx,axis=0,inplace=True)\n",
    "safe_loc.drop(0,axis=0,inplace=True)\n",
    "safe_loc.info()"
   ]
  },
  {
   "cell_type": "code",
   "execution_count": 104,
   "id": "cc075c35-052b-42e4-b975-16e8afe3dde7",
   "metadata": {},
   "outputs": [
    {
     "data": {
      "text/plain": [
       "sido       0\n",
       "sigungu    0\n",
       "2016       0\n",
       "2017       0\n",
       "2018       0\n",
       "2019       0\n",
       "2020       0\n",
       "dtype: int64"
      ]
     },
     "execution_count": 104,
     "metadata": {},
     "output_type": "execute_result"
    },
    {
     "data": {
      "text/plain": [
       "sido       0\n",
       "sigungu    0\n",
       "2016       0\n",
       "2017       0\n",
       "2018       0\n",
       "2019       0\n",
       "2020       0\n",
       "dtype: int64"
      ]
     },
     "execution_count": 104,
     "metadata": {},
     "output_type": "execute_result"
    }
   ],
   "source": [
    "\n",
    "# 결측치 확인\n",
    "safe_loc.isnull().sum(axis=0)\n",
    "danger_loc.isnull().sum(axis=0)"
   ]
  },
  {
   "cell_type": "code",
   "execution_count": 105,
   "id": "ba616946-c046-4444-8bc7-cb9548664101",
   "metadata": {},
   "outputs": [
    {
     "data": {
      "text/html": [
       "<div>\n",
       "<style scoped>\n",
       "    .dataframe tbody tr th:only-of-type {\n",
       "        vertical-align: middle;\n",
       "    }\n",
       "\n",
       "    .dataframe tbody tr th {\n",
       "        vertical-align: top;\n",
       "    }\n",
       "\n",
       "    .dataframe thead th {\n",
       "        text-align: right;\n",
       "    }\n",
       "</style>\n",
       "<table border=\"1\" class=\"dataframe\">\n",
       "  <thead>\n",
       "    <tr style=\"text-align: right;\">\n",
       "      <th></th>\n",
       "      <th>sido</th>\n",
       "      <th>sigungu</th>\n",
       "      <th>2016</th>\n",
       "      <th>2017</th>\n",
       "      <th>2018</th>\n",
       "      <th>2019</th>\n",
       "      <th>2020</th>\n",
       "    </tr>\n",
       "  </thead>\n",
       "  <tbody>\n",
       "    <tr>\n",
       "      <th>36</th>\n",
       "      <td>인천광역시</td>\n",
       "      <td>미추홀구</td>\n",
       "      <td>-</td>\n",
       "      <td>-</td>\n",
       "      <td>16.5</td>\n",
       "      <td>15.8</td>\n",
       "      <td>14.9</td>\n",
       "    </tr>\n",
       "  </tbody>\n",
       "</table>\n",
       "</div>"
      ],
      "text/plain": [
       "     sido sigungu 2016 2017  2018  2019  2020\n",
       "36  인천광역시    미추홀구    -    -  16.5  15.8  14.9"
      ]
     },
     "execution_count": 105,
     "metadata": {},
     "output_type": "execute_result"
    },
    {
     "data": {
      "text/html": [
       "<div>\n",
       "<style scoped>\n",
       "    .dataframe tbody tr th:only-of-type {\n",
       "        vertical-align: middle;\n",
       "    }\n",
       "\n",
       "    .dataframe tbody tr th {\n",
       "        vertical-align: top;\n",
       "    }\n",
       "\n",
       "    .dataframe thead th {\n",
       "        text-align: right;\n",
       "    }\n",
       "</style>\n",
       "<table border=\"1\" class=\"dataframe\">\n",
       "  <thead>\n",
       "    <tr style=\"text-align: right;\">\n",
       "      <th></th>\n",
       "      <th>sido</th>\n",
       "      <th>sigungu</th>\n",
       "      <th>2016</th>\n",
       "      <th>2017</th>\n",
       "      <th>2018</th>\n",
       "      <th>2019</th>\n",
       "      <th>2020</th>\n",
       "    </tr>\n",
       "  </thead>\n",
       "  <tbody>\n",
       "    <tr>\n",
       "      <th>36</th>\n",
       "      <td>인천광역시</td>\n",
       "      <td>미추홀구</td>\n",
       "      <td>-</td>\n",
       "      <td>-</td>\n",
       "      <td>16.5</td>\n",
       "      <td>15.8</td>\n",
       "      <td>14.9</td>\n",
       "    </tr>\n",
       "  </tbody>\n",
       "</table>\n",
       "</div>"
      ],
      "text/plain": [
       "     sido sigungu 2016 2017  2018  2019  2020\n",
       "36  인천광역시    미추홀구    -    -  16.5  15.8  14.9"
      ]
     },
     "execution_count": 105,
     "metadata": {},
     "output_type": "execute_result"
    },
    {
     "data": {
      "text/html": [
       "<div>\n",
       "<style scoped>\n",
       "    .dataframe tbody tr th:only-of-type {\n",
       "        vertical-align: middle;\n",
       "    }\n",
       "\n",
       "    .dataframe tbody tr th {\n",
       "        vertical-align: top;\n",
       "    }\n",
       "\n",
       "    .dataframe thead th {\n",
       "        text-align: right;\n",
       "    }\n",
       "</style>\n",
       "<table border=\"1\" class=\"dataframe\">\n",
       "  <thead>\n",
       "    <tr style=\"text-align: right;\">\n",
       "      <th></th>\n",
       "      <th>sido</th>\n",
       "      <th>sigungu</th>\n",
       "      <th>2016</th>\n",
       "      <th>2017</th>\n",
       "      <th>2018</th>\n",
       "      <th>2019</th>\n",
       "      <th>2020</th>\n",
       "    </tr>\n",
       "  </thead>\n",
       "  <tbody>\n",
       "    <tr>\n",
       "      <th>30</th>\n",
       "      <td>인천광역시</td>\n",
       "      <td>남구</td>\n",
       "      <td>17.2</td>\n",
       "      <td>17.8</td>\n",
       "      <td>-</td>\n",
       "      <td>-</td>\n",
       "      <td>-</td>\n",
       "    </tr>\n",
       "  </tbody>\n",
       "</table>\n",
       "</div>"
      ],
      "text/plain": [
       "     sido sigungu  2016  2017 2018 2019 2020\n",
       "30  인천광역시      남구  17.2  17.8    -    -    -"
      ]
     },
     "execution_count": 105,
     "metadata": {},
     "output_type": "execute_result"
    },
    {
     "data": {
      "text/html": [
       "<div>\n",
       "<style scoped>\n",
       "    .dataframe tbody tr th:only-of-type {\n",
       "        vertical-align: middle;\n",
       "    }\n",
       "\n",
       "    .dataframe tbody tr th {\n",
       "        vertical-align: top;\n",
       "    }\n",
       "\n",
       "    .dataframe thead th {\n",
       "        text-align: right;\n",
       "    }\n",
       "</style>\n",
       "<table border=\"1\" class=\"dataframe\">\n",
       "  <thead>\n",
       "    <tr style=\"text-align: right;\">\n",
       "      <th></th>\n",
       "      <th>sido</th>\n",
       "      <th>sigungu</th>\n",
       "      <th>2016</th>\n",
       "      <th>2017</th>\n",
       "      <th>2018</th>\n",
       "      <th>2019</th>\n",
       "      <th>2020</th>\n",
       "    </tr>\n",
       "  </thead>\n",
       "  <tbody>\n",
       "    <tr>\n",
       "      <th>30</th>\n",
       "      <td>인천광역시</td>\n",
       "      <td>남구</td>\n",
       "      <td>17.2</td>\n",
       "      <td>17.8</td>\n",
       "      <td>-</td>\n",
       "      <td>-</td>\n",
       "      <td>-</td>\n",
       "    </tr>\n",
       "  </tbody>\n",
       "</table>\n",
       "</div>"
      ],
      "text/plain": [
       "     sido sigungu  2016  2017 2018 2019 2020\n",
       "30  인천광역시      남구  17.2  17.8    -    -    -"
      ]
     },
     "execution_count": 105,
     "metadata": {},
     "output_type": "execute_result"
    },
    {
     "data": {
      "text/html": [
       "<div>\n",
       "<style scoped>\n",
       "    .dataframe tbody tr th:only-of-type {\n",
       "        vertical-align: middle;\n",
       "    }\n",
       "\n",
       "    .dataframe tbody tr th {\n",
       "        vertical-align: top;\n",
       "    }\n",
       "\n",
       "    .dataframe thead th {\n",
       "        text-align: right;\n",
       "    }\n",
       "</style>\n",
       "<table border=\"1\" class=\"dataframe\">\n",
       "  <thead>\n",
       "    <tr style=\"text-align: right;\">\n",
       "      <th></th>\n",
       "      <th>sido</th>\n",
       "      <th>sigungu</th>\n",
       "      <th>2016</th>\n",
       "      <th>2017</th>\n",
       "      <th>2018</th>\n",
       "      <th>2019</th>\n",
       "      <th>2020</th>\n",
       "    </tr>\n",
       "  </thead>\n",
       "  <tbody>\n",
       "    <tr>\n",
       "      <th>30</th>\n",
       "      <td>인천광역시</td>\n",
       "      <td>남구</td>\n",
       "      <td>17.2</td>\n",
       "      <td>17.8</td>\n",
       "      <td>-</td>\n",
       "      <td>-</td>\n",
       "      <td>-</td>\n",
       "    </tr>\n",
       "  </tbody>\n",
       "</table>\n",
       "</div>"
      ],
      "text/plain": [
       "     sido sigungu  2016  2017 2018 2019 2020\n",
       "30  인천광역시      남구  17.2  17.8    -    -    -"
      ]
     },
     "execution_count": 105,
     "metadata": {},
     "output_type": "execute_result"
    }
   ],
   "source": [
    "# 결측치 대신 \"-\"값이 들어가있음\n",
    "for year in [\"2016\",\"2017\",\"2018\",\"2019\",\"2020\"] :\n",
    "    safe_loc[safe_loc[year]==\"-\"]\n",
    "# 남구 데이터를 미출홀구에 통합"
   ]
  },
  {
   "cell_type": "code",
   "execution_count": 106,
   "id": "7eca3243-cd53-4ee9-970d-40c22cdd6a46",
   "metadata": {},
   "outputs": [
    {
     "data": {
      "text/html": [
       "<div>\n",
       "<style scoped>\n",
       "    .dataframe tbody tr th:only-of-type {\n",
       "        vertical-align: middle;\n",
       "    }\n",
       "\n",
       "    .dataframe tbody tr th {\n",
       "        vertical-align: top;\n",
       "    }\n",
       "\n",
       "    .dataframe thead th {\n",
       "        text-align: right;\n",
       "    }\n",
       "</style>\n",
       "<table border=\"1\" class=\"dataframe\">\n",
       "  <thead>\n",
       "    <tr style=\"text-align: right;\">\n",
       "      <th></th>\n",
       "      <th>sido</th>\n",
       "      <th>sigungu</th>\n",
       "      <th>2016</th>\n",
       "      <th>2017</th>\n",
       "      <th>2018</th>\n",
       "      <th>2019</th>\n",
       "      <th>2020</th>\n",
       "    </tr>\n",
       "  </thead>\n",
       "  <tbody>\n",
       "    <tr>\n",
       "      <th>36</th>\n",
       "      <td>인천광역시</td>\n",
       "      <td>미추홀구</td>\n",
       "      <td>17.2</td>\n",
       "      <td>17.8</td>\n",
       "      <td>16.5</td>\n",
       "      <td>15.8</td>\n",
       "      <td>14.9</td>\n",
       "    </tr>\n",
       "  </tbody>\n",
       "</table>\n",
       "</div>"
      ],
      "text/plain": [
       "     sido sigungu  2016  2017  2018  2019  2020\n",
       "36  인천광역시    미추홀구  17.2  17.8  16.5  15.8  14.9"
      ]
     },
     "execution_count": 106,
     "metadata": {},
     "output_type": "execute_result"
    }
   ],
   "source": [
    "# 남구와 미추홀구 삭제\n",
    "safe_loc.drop([36,30],axis=0,inplace=True)\n",
    "\n",
    "# 새로운 미추홀구 추가\n",
    "safe_loc.loc[36]=['인천광역시','미추홀구',\"17.2\",\"17.8\",\"16.5\",\"15.8\",\"14.9\"]\n",
    "\n",
    "safe_loc[safe_loc[\"sigungu\"]==\"미추홀구\"]"
   ]
  },
  {
   "cell_type": "code",
   "execution_count": 107,
   "id": "d8e20c19-b523-45a5-935b-dfd7bf811737",
   "metadata": {},
   "outputs": [
    {
     "data": {
      "text/html": [
       "<div>\n",
       "<style scoped>\n",
       "    .dataframe tbody tr th:only-of-type {\n",
       "        vertical-align: middle;\n",
       "    }\n",
       "\n",
       "    .dataframe tbody tr th {\n",
       "        vertical-align: top;\n",
       "    }\n",
       "\n",
       "    .dataframe thead th {\n",
       "        text-align: right;\n",
       "    }\n",
       "</style>\n",
       "<table border=\"1\" class=\"dataframe\">\n",
       "  <thead>\n",
       "    <tr style=\"text-align: right;\">\n",
       "      <th></th>\n",
       "      <th>sido</th>\n",
       "      <th>sigungu</th>\n",
       "      <th>2016</th>\n",
       "      <th>2017</th>\n",
       "      <th>2018</th>\n",
       "      <th>2019</th>\n",
       "      <th>2020</th>\n",
       "    </tr>\n",
       "  </thead>\n",
       "  <tbody>\n",
       "  </tbody>\n",
       "</table>\n",
       "</div>"
      ],
      "text/plain": [
       "Empty DataFrame\n",
       "Columns: [sido, sigungu, 2016, 2017, 2018, 2019, 2020]\n",
       "Index: []"
      ]
     },
     "execution_count": 107,
     "metadata": {},
     "output_type": "execute_result"
    },
    {
     "data": {
      "text/html": [
       "<div>\n",
       "<style scoped>\n",
       "    .dataframe tbody tr th:only-of-type {\n",
       "        vertical-align: middle;\n",
       "    }\n",
       "\n",
       "    .dataframe tbody tr th {\n",
       "        vertical-align: top;\n",
       "    }\n",
       "\n",
       "    .dataframe thead th {\n",
       "        text-align: right;\n",
       "    }\n",
       "</style>\n",
       "<table border=\"1\" class=\"dataframe\">\n",
       "  <thead>\n",
       "    <tr style=\"text-align: right;\">\n",
       "      <th></th>\n",
       "      <th>sido</th>\n",
       "      <th>sigungu</th>\n",
       "      <th>2016</th>\n",
       "      <th>2017</th>\n",
       "      <th>2018</th>\n",
       "      <th>2019</th>\n",
       "      <th>2020</th>\n",
       "    </tr>\n",
       "  </thead>\n",
       "  <tbody>\n",
       "  </tbody>\n",
       "</table>\n",
       "</div>"
      ],
      "text/plain": [
       "Empty DataFrame\n",
       "Columns: [sido, sigungu, 2016, 2017, 2018, 2019, 2020]\n",
       "Index: []"
      ]
     },
     "execution_count": 107,
     "metadata": {},
     "output_type": "execute_result"
    },
    {
     "data": {
      "text/html": [
       "<div>\n",
       "<style scoped>\n",
       "    .dataframe tbody tr th:only-of-type {\n",
       "        vertical-align: middle;\n",
       "    }\n",
       "\n",
       "    .dataframe tbody tr th {\n",
       "        vertical-align: top;\n",
       "    }\n",
       "\n",
       "    .dataframe thead th {\n",
       "        text-align: right;\n",
       "    }\n",
       "</style>\n",
       "<table border=\"1\" class=\"dataframe\">\n",
       "  <thead>\n",
       "    <tr style=\"text-align: right;\">\n",
       "      <th></th>\n",
       "      <th>sido</th>\n",
       "      <th>sigungu</th>\n",
       "      <th>2016</th>\n",
       "      <th>2017</th>\n",
       "      <th>2018</th>\n",
       "      <th>2019</th>\n",
       "      <th>2020</th>\n",
       "    </tr>\n",
       "  </thead>\n",
       "  <tbody>\n",
       "  </tbody>\n",
       "</table>\n",
       "</div>"
      ],
      "text/plain": [
       "Empty DataFrame\n",
       "Columns: [sido, sigungu, 2016, 2017, 2018, 2019, 2020]\n",
       "Index: []"
      ]
     },
     "execution_count": 107,
     "metadata": {},
     "output_type": "execute_result"
    },
    {
     "data": {
      "text/html": [
       "<div>\n",
       "<style scoped>\n",
       "    .dataframe tbody tr th:only-of-type {\n",
       "        vertical-align: middle;\n",
       "    }\n",
       "\n",
       "    .dataframe tbody tr th {\n",
       "        vertical-align: top;\n",
       "    }\n",
       "\n",
       "    .dataframe thead th {\n",
       "        text-align: right;\n",
       "    }\n",
       "</style>\n",
       "<table border=\"1\" class=\"dataframe\">\n",
       "  <thead>\n",
       "    <tr style=\"text-align: right;\">\n",
       "      <th></th>\n",
       "      <th>sido</th>\n",
       "      <th>sigungu</th>\n",
       "      <th>2016</th>\n",
       "      <th>2017</th>\n",
       "      <th>2018</th>\n",
       "      <th>2019</th>\n",
       "      <th>2020</th>\n",
       "    </tr>\n",
       "  </thead>\n",
       "  <tbody>\n",
       "  </tbody>\n",
       "</table>\n",
       "</div>"
      ],
      "text/plain": [
       "Empty DataFrame\n",
       "Columns: [sido, sigungu, 2016, 2017, 2018, 2019, 2020]\n",
       "Index: []"
      ]
     },
     "execution_count": 107,
     "metadata": {},
     "output_type": "execute_result"
    },
    {
     "data": {
      "text/html": [
       "<div>\n",
       "<style scoped>\n",
       "    .dataframe tbody tr th:only-of-type {\n",
       "        vertical-align: middle;\n",
       "    }\n",
       "\n",
       "    .dataframe tbody tr th {\n",
       "        vertical-align: top;\n",
       "    }\n",
       "\n",
       "    .dataframe thead th {\n",
       "        text-align: right;\n",
       "    }\n",
       "</style>\n",
       "<table border=\"1\" class=\"dataframe\">\n",
       "  <thead>\n",
       "    <tr style=\"text-align: right;\">\n",
       "      <th></th>\n",
       "      <th>sido</th>\n",
       "      <th>sigungu</th>\n",
       "      <th>2016</th>\n",
       "      <th>2017</th>\n",
       "      <th>2018</th>\n",
       "      <th>2019</th>\n",
       "      <th>2020</th>\n",
       "    </tr>\n",
       "  </thead>\n",
       "  <tbody>\n",
       "  </tbody>\n",
       "</table>\n",
       "</div>"
      ],
      "text/plain": [
       "Empty DataFrame\n",
       "Columns: [sido, sigungu, 2016, 2017, 2018, 2019, 2020]\n",
       "Index: []"
      ]
     },
     "execution_count": 107,
     "metadata": {},
     "output_type": "execute_result"
    }
   ],
   "source": [
    "# 위험지역은 누락 데이터가 없는 것으로 확인\n",
    "for year in [\"2016\",\"2017\",\"2018\",\"2019\",\"2020\"] :\n",
    "    danger_loc[danger_loc[year]==\"-\"]"
   ]
  },
  {
   "cell_type": "code",
   "execution_count": 108,
   "id": "a4e36830-a101-4feb-805b-59335d49501e",
   "metadata": {},
   "outputs": [
    {
     "name": "stderr",
     "output_type": "stream",
     "text": [
      "C:\\Users\\KangMinGu\\AppData\\Local\\Temp\\ipykernel_12944\\4185905658.py:4: SettingWithCopyWarning: \n",
      "A value is trying to be set on a copy of a slice from a DataFrame.\n",
      "Try using .loc[row_indexer,col_indexer] = value instead\n",
      "\n",
      "See the caveats in the documentation: https://pandas.pydata.org/pandas-docs/stable/user_guide/indexing.html#returning-a-view-versus-a-copy\n",
      "  danger_loc[year] = pd.to_numeric(danger_loc[year])\n"
     ]
    }
   ],
   "source": [
    "# 데이터 타입을 숫자로 변경\n",
    "for year in [\"2016\",\"2017\",\"2018\",\"2019\",\"2020\"] :\n",
    "    safe_loc[year] = pd.to_numeric(safe_loc[year])\n",
    "    danger_loc[year] = pd.to_numeric(danger_loc[year])"
   ]
  },
  {
   "cell_type": "code",
   "execution_count": 109,
   "id": "85043be4-181e-405b-b091-b3be5bd2d99b",
   "metadata": {},
   "outputs": [
    {
     "name": "stdout",
     "output_type": "stream",
     "text": [
      "<class 'pandas.core.frame.DataFrame'>\n",
      "Int64Index: 112 entries, 2 to 36\n",
      "Data columns (total 7 columns):\n",
      " #   Column   Non-Null Count  Dtype  \n",
      "---  ------   --------------  -----  \n",
      " 0   sido     112 non-null    object \n",
      " 1   sigungu  112 non-null    object \n",
      " 2   2016     112 non-null    float64\n",
      " 3   2017     112 non-null    float64\n",
      " 4   2018     112 non-null    float64\n",
      " 5   2019     112 non-null    float64\n",
      " 6   2020     112 non-null    float64\n",
      "dtypes: float64(5), object(2)\n",
      "memory usage: 7.0+ KB\n",
      "<class 'pandas.core.frame.DataFrame'>\n",
      "Int64Index: 89 entries, 4 to 216\n",
      "Data columns (total 7 columns):\n",
      " #   Column   Non-Null Count  Dtype  \n",
      "---  ------   --------------  -----  \n",
      " 0   sido     89 non-null     object \n",
      " 1   sigungu  89 non-null     object \n",
      " 2   2016     89 non-null     float64\n",
      " 3   2017     89 non-null     float64\n",
      " 4   2018     89 non-null     float64\n",
      " 5   2019     89 non-null     float64\n",
      " 6   2020     89 non-null     float64\n",
      "dtypes: float64(5), object(2)\n",
      "memory usage: 5.6+ KB\n"
     ]
    }
   ],
   "source": [
    "safe_loc.info()\n",
    "danger_loc.info()"
   ]
  },
  {
   "cell_type": "markdown",
   "id": "d1e28926-23fe-4bd4-b456-157b34a75fce",
   "metadata": {},
   "source": [
    "#### 인구감소위험지역과 그 외의 지역 (특별시, 특별자치구 제외)의 전년도 대비 재정자립도(세입과목개편후) 계산\n",
    "- danger_loc >> 감소위험지역\n",
    "- safe_loc >> 그 외지역"
   ]
  },
  {
   "cell_type": "markdown",
   "id": "90a95e16-5c7f-4187-a80a-6c38704efd66",
   "metadata": {},
   "source": [
    "### 대전 동구, 인천 동구, 광주 동구 / 부산 중구, 대전 중구,\n",
    "attention_locations = [\"동구\",\"중구\",\"금정구\",\"통영시\",\"강릉시\",\"동해시\",\"경주시\",\"사천시\",\"김천시\",\"대덕구\",\"인제군\",\"익산시\",\"동두천시\",\"속초시\",\"포천시\"]\n",
    "\n",
    "- 동두천시와 포천시 x"
   ]
  },
  {
   "cell_type": "code",
   "execution_count": 110,
   "id": "39231dbf-afac-4df0-8b0e-73a09d827eb1",
   "metadata": {},
   "outputs": [],
   "source": [
    "danger_loc.to_csv(\"./data/재정자립도_감소지역.csv\")\n",
    "safe_loc.to_csv(\"./data/1_재정자립도_지역.csv\")"
   ]
  },
  {
   "cell_type": "code",
   "execution_count": 111,
   "id": "d1c85e60-c75a-4d67-aea3-cbb7961d073a",
   "metadata": {},
   "outputs": [],
   "source": [
    "safe_loc = pd.read_csv(\"./data/1_재정자립도_지역.csv\")"
   ]
  },
  {
   "cell_type": "code",
   "execution_count": 112,
   "id": "62c60063-0c22-44c3-b842-11dc6d7c6d66",
   "metadata": {
    "tags": []
   },
   "outputs": [],
   "source": [
    "safe_loc.drop(\"Unnamed: 0\",axis=1,inplace=True)"
   ]
  },
  {
   "cell_type": "code",
   "execution_count": 113,
   "id": "c48a4c74-90ca-4429-ad5c-d5f9f66cbe53",
   "metadata": {},
   "outputs": [],
   "source": [
    "attention_locations = [\"동구\",\"중구\",\"금정구\",\"통영시\",\"강릉시\",\"동해시\",\"경주시\",\"사천시\",\"김천시\",\"대덕구\",\"인제군\",\"익산시\",\"동두천시\",\"속초시\",\"포천시\"]"
   ]
  },
  {
   "cell_type": "code",
   "execution_count": 114,
   "id": "6770d5e4-85ce-494c-b386-bd4195b9835b",
   "metadata": {
    "collapsed": true,
    "jupyter": {
     "outputs_hidden": true
    },
    "tags": []
   },
   "outputs": [
    {
     "data": {
      "text/plain": [
       "[14,\n",
       " 20,\n",
       " 26,\n",
       " 31,\n",
       " 38,\n",
       " 0,\n",
       " 13,\n",
       " 19,\n",
       " 32,\n",
       " 36,\n",
       " 7,\n",
       " 105,\n",
       " 72,\n",
       " 73,\n",
       " 98,\n",
       " 106,\n",
       " 99,\n",
       " 35,\n",
       " 75,\n",
       " 89,\n",
       " 48,\n",
       " 74,\n",
       " 67]"
      ]
     },
     "execution_count": 114,
     "metadata": {},
     "output_type": "execute_result"
    }
   ],
   "source": [
    "att_idx = []\n",
    "for loc in attention_locations:\n",
    "    idx = safe_loc[safe_loc[\"sigungu\"] == loc].index\n",
    "    att_idx.extend(idx)\n",
    "att_idx"
   ]
  },
  {
   "cell_type": "code",
   "execution_count": 115,
   "id": "17f61ba9-ebfc-4847-8faf-2614c3e52460",
   "metadata": {
    "tags": []
   },
   "outputs": [
    {
     "data": {
      "text/html": [
       "<div>\n",
       "<style scoped>\n",
       "    .dataframe tbody tr th:only-of-type {\n",
       "        vertical-align: middle;\n",
       "    }\n",
       "\n",
       "    .dataframe tbody tr th {\n",
       "        vertical-align: top;\n",
       "    }\n",
       "\n",
       "    .dataframe thead th {\n",
       "        text-align: right;\n",
       "    }\n",
       "</style>\n",
       "<table border=\"1\" class=\"dataframe\">\n",
       "  <thead>\n",
       "    <tr style=\"text-align: right;\">\n",
       "      <th></th>\n",
       "      <th>sido</th>\n",
       "      <th>sigungu</th>\n",
       "      <th>2016</th>\n",
       "      <th>2017</th>\n",
       "      <th>2018</th>\n",
       "      <th>2019</th>\n",
       "      <th>2020</th>\n",
       "    </tr>\n",
       "  </thead>\n",
       "  <tbody>\n",
       "    <tr>\n",
       "      <th>14</th>\n",
       "      <td>대구광역시</td>\n",
       "      <td>동구</td>\n",
       "      <td>16.9</td>\n",
       "      <td>17.9</td>\n",
       "      <td>17.0</td>\n",
       "      <td>16.9</td>\n",
       "      <td>17.9</td>\n",
       "    </tr>\n",
       "    <tr>\n",
       "      <th>20</th>\n",
       "      <td>인천광역시</td>\n",
       "      <td>동구</td>\n",
       "      <td>13.7</td>\n",
       "      <td>13.4</td>\n",
       "      <td>10.4</td>\n",
       "      <td>9.0</td>\n",
       "      <td>11.5</td>\n",
       "    </tr>\n",
       "    <tr>\n",
       "      <th>26</th>\n",
       "      <td>광주광역시</td>\n",
       "      <td>동구</td>\n",
       "      <td>13.4</td>\n",
       "      <td>14.0</td>\n",
       "      <td>13.6</td>\n",
       "      <td>11.7</td>\n",
       "      <td>13.8</td>\n",
       "    </tr>\n",
       "    <tr>\n",
       "      <th>31</th>\n",
       "      <td>대전광역시</td>\n",
       "      <td>동구</td>\n",
       "      <td>12.5</td>\n",
       "      <td>12.2</td>\n",
       "      <td>11.5</td>\n",
       "      <td>10.8</td>\n",
       "      <td>11.0</td>\n",
       "    </tr>\n",
       "    <tr>\n",
       "      <th>38</th>\n",
       "      <td>울산광역시</td>\n",
       "      <td>동구</td>\n",
       "      <td>25.5</td>\n",
       "      <td>23.1</td>\n",
       "      <td>20.7</td>\n",
       "      <td>18.6</td>\n",
       "      <td>18.6</td>\n",
       "    </tr>\n",
       "    <tr>\n",
       "      <th>0</th>\n",
       "      <td>부산광역시</td>\n",
       "      <td>중구</td>\n",
       "      <td>21.7</td>\n",
       "      <td>22.8</td>\n",
       "      <td>21.4</td>\n",
       "      <td>22.2</td>\n",
       "      <td>23.6</td>\n",
       "    </tr>\n",
       "    <tr>\n",
       "      <th>13</th>\n",
       "      <td>대구광역시</td>\n",
       "      <td>중구</td>\n",
       "      <td>26.5</td>\n",
       "      <td>26.8</td>\n",
       "      <td>25.8</td>\n",
       "      <td>25.6</td>\n",
       "      <td>25.2</td>\n",
       "    </tr>\n",
       "    <tr>\n",
       "      <th>19</th>\n",
       "      <td>인천광역시</td>\n",
       "      <td>중구</td>\n",
       "      <td>43.2</td>\n",
       "      <td>46.5</td>\n",
       "      <td>42.0</td>\n",
       "      <td>42.0</td>\n",
       "      <td>45.2</td>\n",
       "    </tr>\n",
       "    <tr>\n",
       "      <th>32</th>\n",
       "      <td>대전광역시</td>\n",
       "      <td>중구</td>\n",
       "      <td>15.3</td>\n",
       "      <td>14.9</td>\n",
       "      <td>13.6</td>\n",
       "      <td>12.4</td>\n",
       "      <td>13.0</td>\n",
       "    </tr>\n",
       "    <tr>\n",
       "      <th>36</th>\n",
       "      <td>울산광역시</td>\n",
       "      <td>중구</td>\n",
       "      <td>15.9</td>\n",
       "      <td>16.9</td>\n",
       "      <td>18.0</td>\n",
       "      <td>15.6</td>\n",
       "      <td>16.6</td>\n",
       "    </tr>\n",
       "    <tr>\n",
       "      <th>7</th>\n",
       "      <td>부산광역시</td>\n",
       "      <td>금정구</td>\n",
       "      <td>19.8</td>\n",
       "      <td>19.4</td>\n",
       "      <td>19.3</td>\n",
       "      <td>17.6</td>\n",
       "      <td>16.5</td>\n",
       "    </tr>\n",
       "    <tr>\n",
       "      <th>105</th>\n",
       "      <td>경상남도</td>\n",
       "      <td>통영시</td>\n",
       "      <td>16.5</td>\n",
       "      <td>16.7</td>\n",
       "      <td>16.1</td>\n",
       "      <td>13.9</td>\n",
       "      <td>12.6</td>\n",
       "    </tr>\n",
       "    <tr>\n",
       "      <th>72</th>\n",
       "      <td>강원도</td>\n",
       "      <td>강릉시</td>\n",
       "      <td>17.1</td>\n",
       "      <td>18.7</td>\n",
       "      <td>18.2</td>\n",
       "      <td>17.4</td>\n",
       "      <td>17.8</td>\n",
       "    </tr>\n",
       "    <tr>\n",
       "      <th>73</th>\n",
       "      <td>강원도</td>\n",
       "      <td>동해시</td>\n",
       "      <td>19.5</td>\n",
       "      <td>20.2</td>\n",
       "      <td>19.6</td>\n",
       "      <td>18.6</td>\n",
       "      <td>16.7</td>\n",
       "    </tr>\n",
       "    <tr>\n",
       "      <th>98</th>\n",
       "      <td>경상북도</td>\n",
       "      <td>경주시</td>\n",
       "      <td>20.8</td>\n",
       "      <td>22.7</td>\n",
       "      <td>24.7</td>\n",
       "      <td>22.2</td>\n",
       "      <td>19.6</td>\n",
       "    </tr>\n",
       "    <tr>\n",
       "      <th>106</th>\n",
       "      <td>경상남도</td>\n",
       "      <td>사천시</td>\n",
       "      <td>15.7</td>\n",
       "      <td>15.5</td>\n",
       "      <td>15.4</td>\n",
       "      <td>15.0</td>\n",
       "      <td>16.5</td>\n",
       "    </tr>\n",
       "    <tr>\n",
       "      <th>99</th>\n",
       "      <td>경상북도</td>\n",
       "      <td>김천시</td>\n",
       "      <td>14.1</td>\n",
       "      <td>14.2</td>\n",
       "      <td>13.3</td>\n",
       "      <td>14.8</td>\n",
       "      <td>13.4</td>\n",
       "    </tr>\n",
       "    <tr>\n",
       "      <th>35</th>\n",
       "      <td>대전광역시</td>\n",
       "      <td>대덕구</td>\n",
       "      <td>17.7</td>\n",
       "      <td>16.8</td>\n",
       "      <td>16.1</td>\n",
       "      <td>15.0</td>\n",
       "      <td>14.8</td>\n",
       "    </tr>\n",
       "    <tr>\n",
       "      <th>75</th>\n",
       "      <td>강원도</td>\n",
       "      <td>인제군</td>\n",
       "      <td>7.8</td>\n",
       "      <td>9.1</td>\n",
       "      <td>7.8</td>\n",
       "      <td>7.4</td>\n",
       "      <td>9.0</td>\n",
       "    </tr>\n",
       "    <tr>\n",
       "      <th>89</th>\n",
       "      <td>전라북도</td>\n",
       "      <td>익산시</td>\n",
       "      <td>17.2</td>\n",
       "      <td>17.8</td>\n",
       "      <td>16.7</td>\n",
       "      <td>16.7</td>\n",
       "      <td>16.8</td>\n",
       "    </tr>\n",
       "    <tr>\n",
       "      <th>48</th>\n",
       "      <td>경기도</td>\n",
       "      <td>동두천시</td>\n",
       "      <td>14.7</td>\n",
       "      <td>13.5</td>\n",
       "      <td>14.2</td>\n",
       "      <td>12.7</td>\n",
       "      <td>14.4</td>\n",
       "    </tr>\n",
       "    <tr>\n",
       "      <th>74</th>\n",
       "      <td>강원도</td>\n",
       "      <td>속초시</td>\n",
       "      <td>18.1</td>\n",
       "      <td>17.9</td>\n",
       "      <td>18.4</td>\n",
       "      <td>18.0</td>\n",
       "      <td>17.3</td>\n",
       "    </tr>\n",
       "    <tr>\n",
       "      <th>67</th>\n",
       "      <td>경기도</td>\n",
       "      <td>포천시</td>\n",
       "      <td>26.3</td>\n",
       "      <td>31.8</td>\n",
       "      <td>27.3</td>\n",
       "      <td>26.8</td>\n",
       "      <td>22.1</td>\n",
       "    </tr>\n",
       "  </tbody>\n",
       "</table>\n",
       "</div>"
      ],
      "text/plain": [
       "      sido sigungu  2016  2017  2018  2019  2020\n",
       "14   대구광역시      동구  16.9  17.9  17.0  16.9  17.9\n",
       "20   인천광역시      동구  13.7  13.4  10.4   9.0  11.5\n",
       "26   광주광역시      동구  13.4  14.0  13.6  11.7  13.8\n",
       "31   대전광역시      동구  12.5  12.2  11.5  10.8  11.0\n",
       "38   울산광역시      동구  25.5  23.1  20.7  18.6  18.6\n",
       "0    부산광역시      중구  21.7  22.8  21.4  22.2  23.6\n",
       "13   대구광역시      중구  26.5  26.8  25.8  25.6  25.2\n",
       "19   인천광역시      중구  43.2  46.5  42.0  42.0  45.2\n",
       "32   대전광역시      중구  15.3  14.9  13.6  12.4  13.0\n",
       "36   울산광역시      중구  15.9  16.9  18.0  15.6  16.6\n",
       "7    부산광역시     금정구  19.8  19.4  19.3  17.6  16.5\n",
       "105   경상남도     통영시  16.5  16.7  16.1  13.9  12.6\n",
       "72     강원도     강릉시  17.1  18.7  18.2  17.4  17.8\n",
       "73     강원도     동해시  19.5  20.2  19.6  18.6  16.7\n",
       "98    경상북도     경주시  20.8  22.7  24.7  22.2  19.6\n",
       "106   경상남도     사천시  15.7  15.5  15.4  15.0  16.5\n",
       "99    경상북도     김천시  14.1  14.2  13.3  14.8  13.4\n",
       "35   대전광역시     대덕구  17.7  16.8  16.1  15.0  14.8\n",
       "75     강원도     인제군   7.8   9.1   7.8   7.4   9.0\n",
       "89    전라북도     익산시  17.2  17.8  16.7  16.7  16.8\n",
       "48     경기도    동두천시  14.7  13.5  14.2  12.7  14.4\n",
       "74     강원도     속초시  18.1  17.9  18.4  18.0  17.3\n",
       "67     경기도     포천시  26.3  31.8  27.3  26.8  22.1"
      ]
     },
     "execution_count": 115,
     "metadata": {},
     "output_type": "execute_result"
    }
   ],
   "source": [
    "safe_loc.iloc[att_idx]\n",
    "att_idx.remove(31)\n",
    "att_idx.remove(38)\n",
    "att_idx.remove(13)\n",
    "att_idx.remove(19)\n",
    "att_idx.remove(36)"
   ]
  },
  {
   "cell_type": "code",
   "execution_count": 117,
   "id": "60959f36-1fab-48ef-970d-5fe1b427f2ab",
   "metadata": {},
   "outputs": [],
   "source": [
    "att_loc = safe_loc.iloc[att_idx]"
   ]
  },
  {
   "cell_type": "code",
   "execution_count": 118,
   "id": "b4242a6d-c994-49e6-ad1d-adba840a5ce0",
   "metadata": {
    "tags": []
   },
   "outputs": [
    {
     "data": {
      "text/html": [
       "<div>\n",
       "<style scoped>\n",
       "    .dataframe tbody tr th:only-of-type {\n",
       "        vertical-align: middle;\n",
       "    }\n",
       "\n",
       "    .dataframe tbody tr th {\n",
       "        vertical-align: top;\n",
       "    }\n",
       "\n",
       "    .dataframe thead th {\n",
       "        text-align: right;\n",
       "    }\n",
       "</style>\n",
       "<table border=\"1\" class=\"dataframe\">\n",
       "  <thead>\n",
       "    <tr style=\"text-align: right;\">\n",
       "      <th></th>\n",
       "      <th>sido</th>\n",
       "      <th>sigungu</th>\n",
       "      <th>2016</th>\n",
       "      <th>2017</th>\n",
       "      <th>2018</th>\n",
       "      <th>2019</th>\n",
       "      <th>2020</th>\n",
       "    </tr>\n",
       "  </thead>\n",
       "  <tbody>\n",
       "    <tr>\n",
       "      <th>14</th>\n",
       "      <td>대구광역시</td>\n",
       "      <td>동구</td>\n",
       "      <td>16.9</td>\n",
       "      <td>17.9</td>\n",
       "      <td>17.0</td>\n",
       "      <td>16.9</td>\n",
       "      <td>17.9</td>\n",
       "    </tr>\n",
       "    <tr>\n",
       "      <th>20</th>\n",
       "      <td>인천광역시</td>\n",
       "      <td>동구</td>\n",
       "      <td>13.7</td>\n",
       "      <td>13.4</td>\n",
       "      <td>10.4</td>\n",
       "      <td>9.0</td>\n",
       "      <td>11.5</td>\n",
       "    </tr>\n",
       "    <tr>\n",
       "      <th>26</th>\n",
       "      <td>광주광역시</td>\n",
       "      <td>동구</td>\n",
       "      <td>13.4</td>\n",
       "      <td>14.0</td>\n",
       "      <td>13.6</td>\n",
       "      <td>11.7</td>\n",
       "      <td>13.8</td>\n",
       "    </tr>\n",
       "    <tr>\n",
       "      <th>0</th>\n",
       "      <td>부산광역시</td>\n",
       "      <td>중구</td>\n",
       "      <td>21.7</td>\n",
       "      <td>22.8</td>\n",
       "      <td>21.4</td>\n",
       "      <td>22.2</td>\n",
       "      <td>23.6</td>\n",
       "    </tr>\n",
       "    <tr>\n",
       "      <th>32</th>\n",
       "      <td>대전광역시</td>\n",
       "      <td>중구</td>\n",
       "      <td>15.3</td>\n",
       "      <td>14.9</td>\n",
       "      <td>13.6</td>\n",
       "      <td>12.4</td>\n",
       "      <td>13.0</td>\n",
       "    </tr>\n",
       "    <tr>\n",
       "      <th>7</th>\n",
       "      <td>부산광역시</td>\n",
       "      <td>금정구</td>\n",
       "      <td>19.8</td>\n",
       "      <td>19.4</td>\n",
       "      <td>19.3</td>\n",
       "      <td>17.6</td>\n",
       "      <td>16.5</td>\n",
       "    </tr>\n",
       "    <tr>\n",
       "      <th>105</th>\n",
       "      <td>경상남도</td>\n",
       "      <td>통영시</td>\n",
       "      <td>16.5</td>\n",
       "      <td>16.7</td>\n",
       "      <td>16.1</td>\n",
       "      <td>13.9</td>\n",
       "      <td>12.6</td>\n",
       "    </tr>\n",
       "    <tr>\n",
       "      <th>72</th>\n",
       "      <td>강원도</td>\n",
       "      <td>강릉시</td>\n",
       "      <td>17.1</td>\n",
       "      <td>18.7</td>\n",
       "      <td>18.2</td>\n",
       "      <td>17.4</td>\n",
       "      <td>17.8</td>\n",
       "    </tr>\n",
       "    <tr>\n",
       "      <th>73</th>\n",
       "      <td>강원도</td>\n",
       "      <td>동해시</td>\n",
       "      <td>19.5</td>\n",
       "      <td>20.2</td>\n",
       "      <td>19.6</td>\n",
       "      <td>18.6</td>\n",
       "      <td>16.7</td>\n",
       "    </tr>\n",
       "    <tr>\n",
       "      <th>98</th>\n",
       "      <td>경상북도</td>\n",
       "      <td>경주시</td>\n",
       "      <td>20.8</td>\n",
       "      <td>22.7</td>\n",
       "      <td>24.7</td>\n",
       "      <td>22.2</td>\n",
       "      <td>19.6</td>\n",
       "    </tr>\n",
       "    <tr>\n",
       "      <th>106</th>\n",
       "      <td>경상남도</td>\n",
       "      <td>사천시</td>\n",
       "      <td>15.7</td>\n",
       "      <td>15.5</td>\n",
       "      <td>15.4</td>\n",
       "      <td>15.0</td>\n",
       "      <td>16.5</td>\n",
       "    </tr>\n",
       "    <tr>\n",
       "      <th>99</th>\n",
       "      <td>경상북도</td>\n",
       "      <td>김천시</td>\n",
       "      <td>14.1</td>\n",
       "      <td>14.2</td>\n",
       "      <td>13.3</td>\n",
       "      <td>14.8</td>\n",
       "      <td>13.4</td>\n",
       "    </tr>\n",
       "    <tr>\n",
       "      <th>35</th>\n",
       "      <td>대전광역시</td>\n",
       "      <td>대덕구</td>\n",
       "      <td>17.7</td>\n",
       "      <td>16.8</td>\n",
       "      <td>16.1</td>\n",
       "      <td>15.0</td>\n",
       "      <td>14.8</td>\n",
       "    </tr>\n",
       "    <tr>\n",
       "      <th>75</th>\n",
       "      <td>강원도</td>\n",
       "      <td>인제군</td>\n",
       "      <td>7.8</td>\n",
       "      <td>9.1</td>\n",
       "      <td>7.8</td>\n",
       "      <td>7.4</td>\n",
       "      <td>9.0</td>\n",
       "    </tr>\n",
       "    <tr>\n",
       "      <th>89</th>\n",
       "      <td>전라북도</td>\n",
       "      <td>익산시</td>\n",
       "      <td>17.2</td>\n",
       "      <td>17.8</td>\n",
       "      <td>16.7</td>\n",
       "      <td>16.7</td>\n",
       "      <td>16.8</td>\n",
       "    </tr>\n",
       "    <tr>\n",
       "      <th>48</th>\n",
       "      <td>경기도</td>\n",
       "      <td>동두천시</td>\n",
       "      <td>14.7</td>\n",
       "      <td>13.5</td>\n",
       "      <td>14.2</td>\n",
       "      <td>12.7</td>\n",
       "      <td>14.4</td>\n",
       "    </tr>\n",
       "    <tr>\n",
       "      <th>74</th>\n",
       "      <td>강원도</td>\n",
       "      <td>속초시</td>\n",
       "      <td>18.1</td>\n",
       "      <td>17.9</td>\n",
       "      <td>18.4</td>\n",
       "      <td>18.0</td>\n",
       "      <td>17.3</td>\n",
       "    </tr>\n",
       "    <tr>\n",
       "      <th>67</th>\n",
       "      <td>경기도</td>\n",
       "      <td>포천시</td>\n",
       "      <td>26.3</td>\n",
       "      <td>31.8</td>\n",
       "      <td>27.3</td>\n",
       "      <td>26.8</td>\n",
       "      <td>22.1</td>\n",
       "    </tr>\n",
       "  </tbody>\n",
       "</table>\n",
       "</div>"
      ],
      "text/plain": [
       "      sido sigungu  2016  2017  2018  2019  2020\n",
       "14   대구광역시      동구  16.9  17.9  17.0  16.9  17.9\n",
       "20   인천광역시      동구  13.7  13.4  10.4   9.0  11.5\n",
       "26   광주광역시      동구  13.4  14.0  13.6  11.7  13.8\n",
       "0    부산광역시      중구  21.7  22.8  21.4  22.2  23.6\n",
       "32   대전광역시      중구  15.3  14.9  13.6  12.4  13.0\n",
       "7    부산광역시     금정구  19.8  19.4  19.3  17.6  16.5\n",
       "105   경상남도     통영시  16.5  16.7  16.1  13.9  12.6\n",
       "72     강원도     강릉시  17.1  18.7  18.2  17.4  17.8\n",
       "73     강원도     동해시  19.5  20.2  19.6  18.6  16.7\n",
       "98    경상북도     경주시  20.8  22.7  24.7  22.2  19.6\n",
       "106   경상남도     사천시  15.7  15.5  15.4  15.0  16.5\n",
       "99    경상북도     김천시  14.1  14.2  13.3  14.8  13.4\n",
       "35   대전광역시     대덕구  17.7  16.8  16.1  15.0  14.8\n",
       "75     강원도     인제군   7.8   9.1   7.8   7.4   9.0\n",
       "89    전라북도     익산시  17.2  17.8  16.7  16.7  16.8\n",
       "48     경기도    동두천시  14.7  13.5  14.2  12.7  14.4\n",
       "74     강원도     속초시  18.1  17.9  18.4  18.0  17.3\n",
       "67     경기도     포천시  26.3  31.8  27.3  26.8  22.1"
      ]
     },
     "execution_count": 118,
     "metadata": {},
     "output_type": "execute_result"
    }
   ],
   "source": [
    "att_loc"
   ]
  },
  {
   "cell_type": "code",
   "execution_count": 119,
   "id": "e54ac826-df02-411f-a7a0-706e5bc1d1f9",
   "metadata": {},
   "outputs": [],
   "source": [
    "safe_loc.drop(att_idx,axis=0,inplace=True)"
   ]
  },
  {
   "cell_type": "code",
   "execution_count": 122,
   "id": "8300416a-ae11-48a7-a55f-d25521fd1d0a",
   "metadata": {},
   "outputs": [
    {
     "name": "stdout",
     "output_type": "stream",
     "text": [
      "<class 'pandas.core.frame.DataFrame'>\n",
      "Int64Index: 89 entries, 4 to 216\n",
      "Data columns (total 7 columns):\n",
      " #   Column   Non-Null Count  Dtype  \n",
      "---  ------   --------------  -----  \n",
      " 0   sido     89 non-null     object \n",
      " 1   sigungu  89 non-null     object \n",
      " 2   2016     89 non-null     float64\n",
      " 3   2017     89 non-null     float64\n",
      " 4   2018     89 non-null     float64\n",
      " 5   2019     89 non-null     float64\n",
      " 6   2020     89 non-null     float64\n",
      "dtypes: float64(5), object(2)\n",
      "memory usage: 5.6+ KB\n",
      "<class 'pandas.core.frame.DataFrame'>\n",
      "Int64Index: 18 entries, 14 to 67\n",
      "Data columns (total 7 columns):\n",
      " #   Column   Non-Null Count  Dtype  \n",
      "---  ------   --------------  -----  \n",
      " 0   sido     18 non-null     object \n",
      " 1   sigungu  18 non-null     object \n",
      " 2   2016     18 non-null     float64\n",
      " 3   2017     18 non-null     float64\n",
      " 4   2018     18 non-null     float64\n",
      " 5   2019     18 non-null     float64\n",
      " 6   2020     18 non-null     float64\n",
      "dtypes: float64(5), object(2)\n",
      "memory usage: 1.1+ KB\n",
      "<class 'pandas.core.frame.DataFrame'>\n",
      "Int64Index: 94 entries, 1 to 111\n",
      "Data columns (total 7 columns):\n",
      " #   Column   Non-Null Count  Dtype  \n",
      "---  ------   --------------  -----  \n",
      " 0   sido     94 non-null     object \n",
      " 1   sigungu  94 non-null     object \n",
      " 2   2016     94 non-null     float64\n",
      " 3   2017     94 non-null     float64\n",
      " 4   2018     94 non-null     float64\n",
      " 5   2019     94 non-null     float64\n",
      " 6   2020     94 non-null     float64\n",
      "dtypes: float64(5), object(2)\n",
      "memory usage: 5.9+ KB\n"
     ]
    }
   ],
   "source": [
    "danger_loc.info()\n",
    "att_loc.info()\n",
    "safe_loc.info()"
   ]
  },
  {
   "cell_type": "code",
   "execution_count": 123,
   "id": "d773a630-7748-4b75-96dd-e7641d208b06",
   "metadata": {},
   "outputs": [
    {
     "data": {
      "text/plain": [
       "[10.43595505617978,\n",
       " 10.510112359550565,\n",
       " 10.278651685393259,\n",
       " 9.750561797752809,\n",
       " 10.641573033707862]"
      ]
     },
     "execution_count": 123,
     "metadata": {},
     "output_type": "execute_result"
    },
    {
     "data": {
      "text/plain": [
       "[17.016666666666666,\n",
       " 17.62777777777778,\n",
       " 16.83888888888889,\n",
       " 16.016666666666666,\n",
       " 15.961111111111116]"
      ]
     },
     "execution_count": 123,
     "metadata": {},
     "output_type": "execute_result"
    },
    {
     "data": {
      "text/plain": [
       "[29.660638297872328,\n",
       " 30.544680851063834,\n",
       " 29.384042553191488,\n",
       " 28.27446808510639,\n",
       " 27.22553191489361]"
      ]
     },
     "execution_count": 123,
     "metadata": {},
     "output_type": "execute_result"
    }
   ],
   "source": [
    "danger_loc_fiscal = []\n",
    "att_loc_fiscal = []\n",
    "safe_loc_fiscal = []\n",
    "\n",
    "for year in [\"2016\",\"2017\",\"2018\",\"2019\",\"2020\"] :\n",
    "    data_1 = danger_loc[year].mean() \n",
    "    danger_loc_fiscal.append(data_1)\n",
    "    \n",
    "    data_2 = att_loc[year].mean() \n",
    "    att_loc_fiscal.append(data_2)\n",
    "    \n",
    "    data_3 = safe_loc[year].mean() \n",
    "    safe_loc_fiscal.append(data_3)\n",
    "\n",
    "# 아래 리스트들이 감소, 관심, 안심 데이터의 각 연도별 재정자립도 평균을 가지고 있음\n",
    "danger_loc_fiscal\n",
    "att_loc_fiscal\n",
    "safe_loc_fiscal"
   ]
  },
  {
   "cell_type": "code",
   "execution_count": 124,
   "id": "b7b291ae-7891-457d-9b1a-080d91ff361c",
   "metadata": {},
   "outputs": [],
   "source": [
    "# 2016년에서 2020년까지 5년의 재정자립도 변화량\n",
    "danger_loc_fiscal_5 = danger_loc_fiscal[4] - danger_loc_fiscal[0] \n",
    "safe_loc_fiscal_5 = safe_loc_fiscal[4] - safe_loc_fiscal[0] \n",
    "att_loc_fiscal_5 = att_loc_fiscal[4] - att_loc_fiscal[0]\n",
    "\n",
    "data_data = {\"인구감소지역\": [danger_loc_fiscal_5], \"안심지역\" : [safe_loc_fiscal_5], \"관심지역\":[att_loc_fiscal_5]}\n",
    "fiscal_1 = pd.DataFrame(data_data)\n",
    "fiscal_1.index = [\"2016_2020\"]"
   ]
  },
  {
   "cell_type": "code",
   "execution_count": 125,
   "id": "fb7987f8-3a51-4926-ae29-faece4c2998d",
   "metadata": {},
   "outputs": [
    {
     "data": {
      "text/html": [
       "<div>\n",
       "<style scoped>\n",
       "    .dataframe tbody tr th:only-of-type {\n",
       "        vertical-align: middle;\n",
       "    }\n",
       "\n",
       "    .dataframe tbody tr th {\n",
       "        vertical-align: top;\n",
       "    }\n",
       "\n",
       "    .dataframe thead th {\n",
       "        text-align: right;\n",
       "    }\n",
       "</style>\n",
       "<table border=\"1\" class=\"dataframe\">\n",
       "  <thead>\n",
       "    <tr style=\"text-align: right;\">\n",
       "      <th></th>\n",
       "      <th>인구감소지역</th>\n",
       "      <th>안심지역</th>\n",
       "      <th>관심지역</th>\n",
       "    </tr>\n",
       "  </thead>\n",
       "  <tbody>\n",
       "    <tr>\n",
       "      <th>2016_2020</th>\n",
       "      <td>0.205618</td>\n",
       "      <td>-2.435106</td>\n",
       "      <td>-1.055556</td>\n",
       "    </tr>\n",
       "  </tbody>\n",
       "</table>\n",
       "</div>"
      ],
      "text/plain": [
       "             인구감소지역      안심지역      관심지역\n",
       "2016_2020  0.205618 -2.435106 -1.055556"
      ]
     },
     "execution_count": 125,
     "metadata": {},
     "output_type": "execute_result"
    }
   ],
   "source": [
    "fiscal_1"
   ]
  },
  {
   "cell_type": "code",
   "execution_count": 127,
   "id": "1015773b-cde6-4f2d-8758-87db981e7e96",
   "metadata": {},
   "outputs": [
    {
     "data": {
      "text/plain": [
       "<AxesSubplot:>"
      ]
     },
     "execution_count": 127,
     "metadata": {},
     "output_type": "execute_result"
    },
    {
     "data": {
      "text/plain": [
       "Text(0.5, 1.0, '재정자립도 평균 차이')"
      ]
     },
     "execution_count": 127,
     "metadata": {},
     "output_type": "execute_result"
    },
    {
     "data": {
      "text/plain": [
       "Text(0.5, 0, '연도')"
      ]
     },
     "execution_count": 127,
     "metadata": {},
     "output_type": "execute_result"
    },
    {
     "data": {
      "text/plain": [
       "Text(0, 0.5, '재정자립도')"
      ]
     },
     "execution_count": 127,
     "metadata": {},
     "output_type": "execute_result"
    },
    {
     "data": {
      "text/plain": [
       "(array([0]), [Text(0, 0, '2016_2020')])"
      ]
     },
     "execution_count": 127,
     "metadata": {},
     "output_type": "execute_result"
    },
    {
     "data": {
      "image/png": "[encoded data removed]",
      "text/plain": [
       "<Figure size 640x480 with 1 Axes>"
      ]
     },
     "metadata": {},
     "output_type": "display_data"
    }
   ],
   "source": [
    "fiscal_1.plot(kind = \"bar\")\n",
    "plt.grid()\n",
    "plt.title(\"재정자립도 평균 차이\")\n",
    "plt.xlabel(\"연도\")\n",
    "plt.ylabel(\"재정자립도\")\n",
    "plt.xticks(rotation=0)\n",
    "#plt.yticks([5,10,15,20,25,30])"
   ]
  },
  {
   "cell_type": "code",
   "execution_count": 132,
   "id": "f835bdc3-1c80-4c46-9f1d-7bc6de20f74e",
   "metadata": {},
   "outputs": [],
   "source": [
    "data = {\"감소지역\": danger_loc_fiscal,\"관심지역\":att_loc_fiscal,\"안심지역\" : safe_loc_fiscal}\n",
    "fiscal = pd.DataFrame(data)\n",
    "fiscal.index = [\"2016\",\"2017\",\"2018\",\"2019\",\"2020\"]"
   ]
  },
  {
   "cell_type": "code",
   "execution_count": 133,
   "id": "8393c20a-ad46-4374-91f3-fdcb77524947",
   "metadata": {},
   "outputs": [
    {
     "data": {
      "text/html": [
       "<div>\n",
       "<style scoped>\n",
       "    .dataframe tbody tr th:only-of-type {\n",
       "        vertical-align: middle;\n",
       "    }\n",
       "\n",
       "    .dataframe tbody tr th {\n",
       "        vertical-align: top;\n",
       "    }\n",
       "\n",
       "    .dataframe thead th {\n",
       "        text-align: right;\n",
       "    }\n",
       "</style>\n",
       "<table border=\"1\" class=\"dataframe\">\n",
       "  <thead>\n",
       "    <tr style=\"text-align: right;\">\n",
       "      <th></th>\n",
       "      <th>감소지역</th>\n",
       "      <th>관심지역</th>\n",
       "      <th>안심지역</th>\n",
       "    </tr>\n",
       "  </thead>\n",
       "  <tbody>\n",
       "    <tr>\n",
       "      <th>2016</th>\n",
       "      <td>10.436</td>\n",
       "      <td>17.017</td>\n",
       "      <td>29.661</td>\n",
       "    </tr>\n",
       "    <tr>\n",
       "      <th>2017</th>\n",
       "      <td>10.510</td>\n",
       "      <td>17.628</td>\n",
       "      <td>30.545</td>\n",
       "    </tr>\n",
       "    <tr>\n",
       "      <th>2018</th>\n",
       "      <td>10.279</td>\n",
       "      <td>16.839</td>\n",
       "      <td>29.384</td>\n",
       "    </tr>\n",
       "    <tr>\n",
       "      <th>2019</th>\n",
       "      <td>9.751</td>\n",
       "      <td>16.017</td>\n",
       "      <td>28.274</td>\n",
       "    </tr>\n",
       "    <tr>\n",
       "      <th>2020</th>\n",
       "      <td>10.642</td>\n",
       "      <td>15.961</td>\n",
       "      <td>27.226</td>\n",
       "    </tr>\n",
       "  </tbody>\n",
       "</table>\n",
       "</div>"
      ],
      "text/plain": [
       "        감소지역    관심지역    안심지역\n",
       "2016  10.436  17.017  29.661\n",
       "2017  10.510  17.628  30.545\n",
       "2018  10.279  16.839  29.384\n",
       "2019   9.751  16.017  28.274\n",
       "2020  10.642  15.961  27.226"
      ]
     },
     "execution_count": 133,
     "metadata": {},
     "output_type": "execute_result"
    }
   ],
   "source": [
    "# 데이터 반올림\n",
    "fiscal.apply(lambda x : round(x,3))"
   ]
  },
  {
   "cell_type": "code",
   "execution_count": 140,
   "id": "a8060ef8-8c50-415a-95a7-16bdcff4952a",
   "metadata": {},
   "outputs": [
    {
     "data": {
      "text/plain": [
       "<AxesSubplot:>"
      ]
     },
     "execution_count": 140,
     "metadata": {},
     "output_type": "execute_result"
    },
    {
     "data": {
      "text/plain": [
       "Text(0.5, 1.0, '지역별 재정자립도 차이')"
      ]
     },
     "execution_count": 140,
     "metadata": {},
     "output_type": "execute_result"
    },
    {
     "data": {
      "text/plain": [
       "Text(0.5, 0, '연도')"
      ]
     },
     "execution_count": 140,
     "metadata": {},
     "output_type": "execute_result"
    },
    {
     "data": {
      "text/plain": [
       "Text(0, 0.5, '재정자립도 평균')"
      ]
     },
     "execution_count": 140,
     "metadata": {},
     "output_type": "execute_result"
    },
    {
     "data": {
      "text/plain": [
       "(array([-0.5,  0. ,  0.5,  1. ,  1.5,  2. ,  2.5,  3. ,  3.5,  4. ,  4.5]),\n",
       " [Text(-0.5, 0, ''),\n",
       "  Text(0.0, 0, '2016'),\n",
       "  Text(0.5, 0, ''),\n",
       "  Text(1.0, 0, '2017'),\n",
       "  Text(1.5, 0, ''),\n",
       "  Text(2.0, 0, '2018'),\n",
       "  Text(2.5, 0, ''),\n",
       "  Text(3.0, 0, '2019'),\n",
       "  Text(3.5, 0, ''),\n",
       "  Text(4.0, 0, '2020'),\n",
       "  Text(4.5, 0, '')])"
      ]
     },
     "execution_count": 140,
     "metadata": {},
     "output_type": "execute_result"
    },
    {
     "data": {
      "text/plain": [
       "([<matplotlib.axis.YTick at 0x14f9b1cca00>,\n",
       "  <matplotlib.axis.YTick at 0x14f9b1cc280>,\n",
       "  <matplotlib.axis.YTick at 0x14f9b1b49a0>,\n",
       "  <matplotlib.axis.YTick at 0x14f9b1859d0>,\n",
       "  <matplotlib.axis.YTick at 0x14f9b2198b0>,\n",
       "  <matplotlib.axis.YTick at 0x14f9b222040>],\n",
       " [Text(0, 0, ''),\n",
       "  Text(0, 0, ''),\n",
       "  Text(0, 0, ''),\n",
       "  Text(0, 0, ''),\n",
       "  Text(0, 0, ''),\n",
       "  Text(0, 0, '')])"
      ]
     },
     "execution_count": 140,
     "metadata": {},
     "output_type": "execute_result"
    },
    {
     "data": {
      "text/plain": [
       "<matplotlib.legend.Legend at 0x14f9b1d0a00>"
      ]
     },
     "execution_count": 140,
     "metadata": {},
     "output_type": "execute_result"
    },
    {
     "data": {
      "image/png": "[encoded data removed]",
      "text/plain": [
       "<Figure size 640x480 with 1 Axes>"
      ]
     },
     "metadata": {},
     "output_type": "display_data"
    }
   ],
   "source": [
    "fiscal.plot(color = sns.set_palette('Set1'),marker = \"o\")\n",
    "plt.grid()\n",
    "plt.title(\"지역별 재정자립도 차이\")\n",
    "plt.xlabel(\"연도\")\n",
    "plt.ylabel(\"재정자립도 평균\")\n",
    "plt.xticks(rotation=0)\n",
    "plt.yticks([5,10,15,20,25,30])\n",
    "plt.legend(bbox_to_anchor=(1.25, 1))\n",
    "plt.savefig('output/지역별 재정자립도 차이(선).png',bbox_inches=\"tight\")"
   ]
  },
  {
   "cell_type": "code",
   "execution_count": null,
   "id": "021307fd-f1af-489e-8123-bc485fa3c78d",
   "metadata": {},
   "outputs": [],
   "source": [
    "# \n",
    "# 인구감소지역이 정책, 인구감소지역의 스스로 생존할 수 있는 능력이 떨어진다. "
   ]
  },
  {
   "cell_type": "code",
   "execution_count": 139,
   "id": "2eeb35ab-bc28-4849-8b25-e099add8c5a5",
   "metadata": {},
   "outputs": [
    {
     "data": {
      "text/plain": [
       "<AxesSubplot:>"
      ]
     },
     "execution_count": 139,
     "metadata": {},
     "output_type": "execute_result"
    },
    {
     "data": {
      "text/plain": [
       "Text(0.5, 1.0, '지역별 재정자립도 차이')"
      ]
     },
     "execution_count": 139,
     "metadata": {},
     "output_type": "execute_result"
    },
    {
     "data": {
      "text/plain": [
       "Text(0.5, 0, '연도')"
      ]
     },
     "execution_count": 139,
     "metadata": {},
     "output_type": "execute_result"
    },
    {
     "data": {
      "text/plain": [
       "Text(0, 0.5, '재정자립도 평균')"
      ]
     },
     "execution_count": 139,
     "metadata": {},
     "output_type": "execute_result"
    },
    {
     "data": {
      "text/plain": [
       "(array([0, 1, 2, 3, 4]),\n",
       " [Text(0, 0, '2016'),\n",
       "  Text(1, 0, '2017'),\n",
       "  Text(2, 0, '2018'),\n",
       "  Text(3, 0, '2019'),\n",
       "  Text(4, 0, '2020')])"
      ]
     },
     "execution_count": 139,
     "metadata": {},
     "output_type": "execute_result"
    },
    {
     "data": {
      "text/plain": [
       "([<matplotlib.axis.YTick at 0x14f9b2c08e0>,\n",
       "  <matplotlib.axis.YTick at 0x14f9b2c0160>,\n",
       "  <matplotlib.axis.YTick at 0x14f9b11caf0>,\n",
       "  <matplotlib.axis.YTick at 0x14f9b1996a0>,\n",
       "  <matplotlib.axis.YTick at 0x14f9b193fa0>,\n",
       "  <matplotlib.axis.YTick at 0x14f9b18cbb0>],\n",
       " [Text(0, 0, ''),\n",
       "  Text(0, 0, ''),\n",
       "  Text(0, 0, ''),\n",
       "  Text(0, 0, ''),\n",
       "  Text(0, 0, ''),\n",
       "  Text(0, 0, '')])"
      ]
     },
     "execution_count": 139,
     "metadata": {},
     "output_type": "execute_result"
    },
    {
     "data": {
      "text/plain": [
       "<matplotlib.legend.Legend at 0x14f9b1503d0>"
      ]
     },
     "execution_count": 139,
     "metadata": {},
     "output_type": "execute_result"
    },
    {
     "data": {
      "image/png": "[encoded data removed]",
      "text/plain": [
       "<Figure size 640x480 with 1 Axes>"
      ]
     },
     "metadata": {},
     "output_type": "display_data"
    }
   ],
   "source": [
    "fiscal.plot(kind=\"bar\",color = sns.set_palette('Set1'))\n",
    "plt.grid()\n",
    "plt.title(\"지역별 재정자립도 차이\")\n",
    "plt.xlabel(\"연도\")\n",
    "plt.ylabel(\"재정자립도 평균\")\n",
    "plt.xticks(rotation=0)\n",
    "plt.yticks([5,10,15,20,25,30])\n",
    "plt.legend(bbox_to_anchor=(1.25, 1))\n",
    "plt.savefig('output/지역별 재정자립도 차이(바).png',bbox_inches=\"tight\")"
   ]
  },
  {
   "cell_type": "code",
   "execution_count": null,
   "id": "e44daad5-956c-47c8-bf76-50e9576d79e1",
   "metadata": {},
   "outputs": [],
   "source": []
  },
  {
   "cell_type": "code",
   "execution_count": null,
   "id": "e145cf9b-236c-47c6-9316-61182cdd95cb",
   "metadata": {},
   "outputs": [],
   "source": []
  },
  {
   "cell_type": "code",
   "execution_count": null,
   "id": "f76f7f68-fa6f-4767-a578-892421c5645a",
   "metadata": {},
   "outputs": [],
   "source": []
  }
 ],
 "metadata": {
  "kernelspec": {
   "display_name": "Python 3 (ipykernel)",
   "language": "python",
   "name": "python3"
  },
  "language_info": {
   "codemirror_mode": {
    "name": "ipython",
    "version": 3
   },
   "file_extension": ".py",
   "mimetype": "text/x-python",
   "name": "python",
   "nbconvert_exporter": "python",
   "pygments_lexer": "ipython3",
   "version": "3.9.15"
  }
 },
 "nbformat": 4,
 "nbformat_minor": 5
}

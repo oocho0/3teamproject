{
 "cells": [
  {
   "cell_type": "markdown",
   "id": "ce327de5-c93b-4ed3-8f41-bf2fca8b6b27",
   "metadata": {},
   "source": [
    "### 지역별 빈집비율 평균 및 감소지역 빈집확인\n",
    "    - 데이터 출처\n",
    "        - 통계청(인구총조사과), 2021, 2022.12.27, 빈집비율(시도/시/군/구)\n",
    "        - https://kosis.kr/statHtml/statHtml.do?orgId=101&tblId=DT_1YL202005&conn_path=I2"
   ]
  },
  {
   "cell_type": "code",
   "execution_count": 1,
   "id": "7f9c119c-cc91-4d0c-b120-efc69c6cb783",
   "metadata": {},
   "outputs": [],
   "source": [
    "import pandas as pd\n",
    "import numpy as np\n",
    "import matplotlib.pyplot as plt\n",
    "import seaborn as sns"
   ]
  },
  {
   "cell_type": "code",
   "execution_count": 2,
   "id": "2082c423-9b74-49ac-83da-874976bce79a",
   "metadata": {},
   "outputs": [],
   "source": [
    "import platform\n",
    "\n",
    "from matplotlib import font_manager, rc\n",
    "plt.rcParams['axes.unicode_minus'] = False\n",
    "\n",
    "if platform.system() == 'Darwin':  # 맥OS \n",
    "    rc('font', family='AppleGothic')\n",
    "elif platform.system() == 'Windows':  # 윈도우\n",
    "    path = \"c:/Windows/Fonts/malgun.ttf\"\n",
    "    font_name = font_manager.FontProperties(fname=path).get_name()\n",
    "    rc('font', family=font_name)\n",
    "else:\n",
    "    print('Unknown system...  sorry~~~')"
   ]
  },
  {
   "cell_type": "code",
   "execution_count": 3,
   "id": "d54a82a2-a07e-4fda-8c36-86219d682f5d",
   "metadata": {},
   "outputs": [],
   "source": [
    "from IPython.core.interactiveshell import InteractiveShell\n",
    "InteractiveShell.ast_node_interactivity=\"all\""
   ]
  },
  {
   "cell_type": "code",
   "execution_count": 53,
   "id": "0b614106-6be3-4468-83b6-9e2c9635a091",
   "metadata": {},
   "outputs": [],
   "source": [
    "space_h = pd.read_csv(\"./data/전국_빈집.csv\")"
   ]
  },
  {
   "cell_type": "code",
   "execution_count": 54,
   "id": "729cc596-5446-4567-ab63-6d5279c2f14d",
   "metadata": {},
   "outputs": [],
   "source": [
    "space_h.columns = [\"행정구역별(시군구)\",\"빈집비율\",\"빈집수(호)\",\"전체주택(호)\"]"
   ]
  },
  {
   "cell_type": "code",
   "execution_count": 55,
   "id": "1611db6f-afe7-4622-b86b-d3d9c25c0f7f",
   "metadata": {},
   "outputs": [],
   "source": [
    "locations = [\"부산광역시 동구\", \"부산광역시 서구\", \"부산광역시 영도구\", \"대구광역시 남구\",\"대구광역시 서구\", \"인천광역시 강화군\", \"인천광역시 옹진군\",\n",
    "            \"경기도 가평군\", \"경기도 연천군\", \"강원도 고성군\", \"강원도 삼척시\", \"강원도 양구군\", \"강원도 양양군\", \"강원도 영월군\", \"강원도 정선군\", \n",
    "            \"강원도 철원군\", \"강원도 태백시\", \"강원도 평창군\", \"강원도 홍천군\", \"강원도 화천군\", \"강원도 횡성군\", \"충청북도 괴산군\", \"충청북도 단양군\",\n",
    "            \"충청북도 보은군\", \"충청북도 영동군\", \"충청북도 옥천군\", \"충청북도 제천시\", \"충청남도 공주시\", \"충청남도 금산군\", \"충청남도 논산시\", \"충청남도 보령시\", \n",
    "            \"충청남도 부여군\", \"충청남도 서천군\", \"충청남도 예산군\", \"충청남도 청양군\", \"충청남도 태안군\", \"전라북도 고창군\", \"전라북도 김제시\", \"전라북도 남원시\", \n",
    "            \"전라북도 무주군\", \"전라북도 부안군\", \"전라북도 순창군\", \"전라북도 임실군\", \"전라북도 장수군\", \"전라북도 정읍시\", \"전라북도 진안군\", \"전라남도 강진군\", \n",
    "            \"전라남도 고흥군\", \"전라남도 곡성군\", \"전라남도 구례군\", \"전라남도 담양군\", \"전라남도 보성군\", \"전라남도 신안군\", \"전라남도 영광군\", \"전라남도 영암군\", \n",
    "            \"전라남도 완도군\", \"전라남도 장성군\", \"전라남도 장흥군\", \"전라남도 진도군\", \"전라남도 함평군\", \"전라남도 해남군\", \"전라남도 화순군\", \"경상북도 고령군\", \n",
    "            \"경상북도 군위군\", \"경상북도 문경시\", \"경상북도 봉화군\", \"경상북도 상주시\", \"경상북도 성주군\", \"경상북도 안동시\", \"경상북도 영덕군\", \"경상북도 영양군\", \n",
    "            \"경상북도 영주시\", \"경상북도 영천시\", \"경상북도 울릉군\", \"경상북도 울진군\", \"경상북도 의성군\", \"경상북도 청도군\", \"경상북도 청송군\", \"경상남도 거창군\",\n",
    "            \"경상남도 고성군\", \"경상남도 남해군\", \"경상남도 밀양시\", \"경상남도 산청군\", \"경상남도 의령군\", \"경상남도 창녕군\", \"경상남도 하동군\", \"경상남도 함안군\", \n",
    "            \"경상남도 함양군\", \"경상남도 합천군\"]\n",
    "\n",
    "attention_locations = [\"대전광역시 동구\",\"인천광역시 동구\", \"부산광역시 중구\",\"부산광역시 금정구\",\"경상남도 통영시\",\"강원도 강릉시\",\"강원도 동해시\",\"경상북도 경주시\",\n",
    "                       \"경상남도 사천시\",\"경상북도 김천시\",\"대전광역시 대덕구\", \"강원도 인제군\",\"전라북도 익산시\",\"경기도 동두천시\",\"강원도 속초시\",\"경기도 포천시\",\n",
    "                      \"광주광역시 동구\",\"대전광역시 중구\"]"
   ]
  },
  {
   "cell_type": "code",
   "execution_count": 56,
   "id": "dbbd48fb-9adb-4005-9ffa-7835e36f6eb5",
   "metadata": {},
   "outputs": [
    {
     "data": {
      "text/plain": [
       "18"
      ]
     },
     "execution_count": 56,
     "metadata": {},
     "output_type": "execute_result"
    }
   ],
   "source": [
    "len(attention_locations)"
   ]
  },
  {
   "cell_type": "code",
   "execution_count": 57,
   "id": "fd5ec15c-ecee-4eb6-a299-0218271cf924",
   "metadata": {},
   "outputs": [
    {
     "name": "stdout",
     "output_type": "stream",
     "text": [
      "<class 'pandas.core.frame.DataFrame'>\n",
      "Int64Index: 89 entries, 2 to 232\n",
      "Data columns (total 4 columns):\n",
      " #   Column      Non-Null Count  Dtype  \n",
      "---  ------      --------------  -----  \n",
      " 0   행정구역별(시군구)  89 non-null     object \n",
      " 1   빈집비율        89 non-null     float64\n",
      " 2   빈집수(호)      89 non-null     int64  \n",
      " 3   전체주택(호)     89 non-null     int64  \n",
      "dtypes: float64(1), int64(2), object(1)\n",
      "memory usage: 3.5+ KB\n"
     ]
    }
   ],
   "source": [
    "idx = []\n",
    "for loc in locations:\n",
    "    i = space_h[space_h[\"행정구역별(시군구)\"]==loc].index\n",
    "    idx.extend(i)\n",
    "dan_loc = space_h.iloc[idx]\n",
    "dan_loc.info()"
   ]
  },
  {
   "cell_type": "code",
   "execution_count": 58,
   "id": "e133ac68-8522-441d-ad0a-c4a2b46e3328",
   "metadata": {},
   "outputs": [
    {
     "name": "stdout",
     "output_type": "stream",
     "text": [
      "<class 'pandas.core.frame.DataFrame'>\n",
      "Int64Index: 144 entries, 0 to 222\n",
      "Data columns (total 4 columns):\n",
      " #   Column      Non-Null Count  Dtype  \n",
      "---  ------      --------------  -----  \n",
      " 0   행정구역별(시군구)  144 non-null    object \n",
      " 1   빈집비율        144 non-null    float64\n",
      " 2   빈집수(호)      144 non-null    int64  \n",
      " 3   전체주택(호)     144 non-null    int64  \n",
      "dtypes: float64(1), int64(2), object(1)\n",
      "memory usage: 5.6+ KB\n"
     ]
    }
   ],
   "source": [
    "space_h.drop(idx,axis=0,inplace=True)\n",
    "space_h.info()"
   ]
  },
  {
   "cell_type": "code",
   "execution_count": 59,
   "id": "59ad4419-b1ff-4eff-b1df-29b145385fb0",
   "metadata": {},
   "outputs": [],
   "source": [
    "dan_loc.index = np.arange(0,89)\n",
    "space_h.index = np.arange(0,144)"
   ]
  },
  {
   "cell_type": "code",
   "execution_count": 60,
   "id": "8760b383-247d-4179-a514-23369d8fd629",
   "metadata": {},
   "outputs": [
    {
     "name": "stdout",
     "output_type": "stream",
     "text": [
      "<class 'pandas.core.frame.DataFrame'>\n",
      "Int64Index: 18 entries, 32 to 33\n",
      "Data columns (total 4 columns):\n",
      " #   Column      Non-Null Count  Dtype  \n",
      "---  ------      --------------  -----  \n",
      " 0   행정구역별(시군구)  18 non-null     object \n",
      " 1   빈집비율        18 non-null     float64\n",
      " 2   빈집수(호)      18 non-null     int64  \n",
      " 3   전체주택(호)     18 non-null     int64  \n",
      "dtypes: float64(1), int64(2), object(1)\n",
      "memory usage: 720.0+ bytes\n"
     ]
    }
   ],
   "source": [
    "idx = []\n",
    "for loc in attention_locations:\n",
    "    i = space_h[space_h[\"행정구역별(시군구)\"]==loc].index\n",
    "    idx.extend(i)\n",
    "att_loc = space_h.iloc[idx]\n",
    "att_loc.info()"
   ]
  },
  {
   "cell_type": "code",
   "execution_count": 61,
   "id": "11dfd3aa-4311-4f19-871b-ae2c875a6a5a",
   "metadata": {},
   "outputs": [
    {
     "name": "stdout",
     "output_type": "stream",
     "text": [
      "<class 'pandas.core.frame.DataFrame'>\n",
      "Int64Index: 126 entries, 1 to 143\n",
      "Data columns (total 4 columns):\n",
      " #   Column      Non-Null Count  Dtype  \n",
      "---  ------      --------------  -----  \n",
      " 0   행정구역별(시군구)  126 non-null    object \n",
      " 1   빈집비율        126 non-null    float64\n",
      " 2   빈집수(호)      126 non-null    int64  \n",
      " 3   전체주택(호)     126 non-null    int64  \n",
      "dtypes: float64(1), int64(2), object(1)\n",
      "memory usage: 4.9+ KB\n"
     ]
    }
   ],
   "source": [
    "space_h.drop(idx,axis=0,inplace=True)\n",
    "space_h.info()"
   ]
  },
  {
   "cell_type": "code",
   "execution_count": 62,
   "id": "ae97399c-4c04-4f03-9aac-a6ad94b9e535",
   "metadata": {},
   "outputs": [],
   "source": [
    "att_loc.index = np.arange(0,18)\n",
    "space_h.index = np.arange(0,126)"
   ]
  },
  {
   "cell_type": "code",
   "execution_count": 63,
   "id": "c7b443fe-9f54-4645-a5b8-728ad5dd0042",
   "metadata": {},
   "outputs": [],
   "source": [
    "safe_loc = space_h"
   ]
  },
  {
   "cell_type": "code",
   "execution_count": 64,
   "id": "f61d415b-72c9-4804-bfec-9bb487281dbb",
   "metadata": {},
   "outputs": [
    {
     "data": {
      "text/html": [
       "<div>\n",
       "<style scoped>\n",
       "    .dataframe tbody tr th:only-of-type {\n",
       "        vertical-align: middle;\n",
       "    }\n",
       "\n",
       "    .dataframe tbody tr th {\n",
       "        vertical-align: top;\n",
       "    }\n",
       "\n",
       "    .dataframe thead th {\n",
       "        text-align: right;\n",
       "    }\n",
       "</style>\n",
       "<table border=\"1\" class=\"dataframe\">\n",
       "  <thead>\n",
       "    <tr style=\"text-align: right;\">\n",
       "      <th></th>\n",
       "      <th>행정구역별(시군구)</th>\n",
       "      <th>빈집비율</th>\n",
       "      <th>빈집수(호)</th>\n",
       "      <th>전체주택(호)</th>\n",
       "    </tr>\n",
       "  </thead>\n",
       "  <tbody>\n",
       "    <tr>\n",
       "      <th>0</th>\n",
       "      <td>부산광역시 동구</td>\n",
       "      <td>11.6</td>\n",
       "      <td>3902</td>\n",
       "      <td>33775</td>\n",
       "    </tr>\n",
       "    <tr>\n",
       "      <th>1</th>\n",
       "      <td>부산광역시 서구</td>\n",
       "      <td>10.2</td>\n",
       "      <td>4241</td>\n",
       "      <td>41592</td>\n",
       "    </tr>\n",
       "    <tr>\n",
       "      <th>2</th>\n",
       "      <td>부산광역시 영도구</td>\n",
       "      <td>10.9</td>\n",
       "      <td>5087</td>\n",
       "      <td>46617</td>\n",
       "    </tr>\n",
       "    <tr>\n",
       "      <th>3</th>\n",
       "      <td>대구광역시 남구</td>\n",
       "      <td>6.5</td>\n",
       "      <td>2782</td>\n",
       "      <td>42607</td>\n",
       "    </tr>\n",
       "    <tr>\n",
       "      <th>4</th>\n",
       "      <td>대구광역시 서구</td>\n",
       "      <td>2.9</td>\n",
       "      <td>1505</td>\n",
       "      <td>51379</td>\n",
       "    </tr>\n",
       "    <tr>\n",
       "      <th>...</th>\n",
       "      <td>...</td>\n",
       "      <td>...</td>\n",
       "      <td>...</td>\n",
       "      <td>...</td>\n",
       "    </tr>\n",
       "    <tr>\n",
       "      <th>84</th>\n",
       "      <td>경상남도 창녕군</td>\n",
       "      <td>14.5</td>\n",
       "      <td>4054</td>\n",
       "      <td>28031</td>\n",
       "    </tr>\n",
       "    <tr>\n",
       "      <th>85</th>\n",
       "      <td>경상남도 하동군</td>\n",
       "      <td>13.5</td>\n",
       "      <td>2748</td>\n",
       "      <td>20413</td>\n",
       "    </tr>\n",
       "    <tr>\n",
       "      <th>86</th>\n",
       "      <td>경상남도 함안군</td>\n",
       "      <td>12.3</td>\n",
       "      <td>3432</td>\n",
       "      <td>28005</td>\n",
       "    </tr>\n",
       "    <tr>\n",
       "      <th>87</th>\n",
       "      <td>경상남도 함양군</td>\n",
       "      <td>17.0</td>\n",
       "      <td>3217</td>\n",
       "      <td>18891</td>\n",
       "    </tr>\n",
       "    <tr>\n",
       "      <th>88</th>\n",
       "      <td>경상남도 합천군</td>\n",
       "      <td>20.5</td>\n",
       "      <td>4794</td>\n",
       "      <td>23435</td>\n",
       "    </tr>\n",
       "  </tbody>\n",
       "</table>\n",
       "<p>89 rows × 4 columns</p>\n",
       "</div>"
      ],
      "text/plain": [
       "   행정구역별(시군구)  빈집비율  빈집수(호)  전체주택(호)\n",
       "0    부산광역시 동구  11.6    3902    33775\n",
       "1    부산광역시 서구  10.2    4241    41592\n",
       "2   부산광역시 영도구  10.9    5087    46617\n",
       "3    대구광역시 남구   6.5    2782    42607\n",
       "4    대구광역시 서구   2.9    1505    51379\n",
       "..        ...   ...     ...      ...\n",
       "84   경상남도 창녕군  14.5    4054    28031\n",
       "85   경상남도 하동군  13.5    2748    20413\n",
       "86   경상남도 함안군  12.3    3432    28005\n",
       "87   경상남도 함양군  17.0    3217    18891\n",
       "88   경상남도 합천군  20.5    4794    23435\n",
       "\n",
       "[89 rows x 4 columns]"
      ]
     },
     "execution_count": 64,
     "metadata": {},
     "output_type": "execute_result"
    }
   ],
   "source": [
    "dan_loc.rename(columns={\"2020\":\"빈집_2020\"})"
   ]
  },
  {
   "cell_type": "code",
   "execution_count": 65,
   "id": "9aca6973-9321-48c5-a195-7f9f5c8b72c4",
   "metadata": {},
   "outputs": [],
   "source": [
    "pop_data = pd.read_csv(\"./data/total_sido_pop_utf.csv\")"
   ]
  },
  {
   "cell_type": "code",
   "execution_count": 66,
   "id": "18d29688-4284-4a9c-85f3-342214408e79",
   "metadata": {},
   "outputs": [],
   "source": [
    "pop_data = pop_data[[\"sigungu\",\"2020\"]]"
   ]
  },
  {
   "cell_type": "code",
   "execution_count": 67,
   "id": "873ca0bc-7aad-4c7b-86cf-a2e80de6b4ab",
   "metadata": {},
   "outputs": [],
   "source": [
    "pop_data.columns =[\"행정구역별(시군구)\",\"인구_2020\"]"
   ]
  },
  {
   "cell_type": "code",
   "execution_count": 68,
   "id": "e4a2edfa-627e-4d6b-9879-ddd472920904",
   "metadata": {},
   "outputs": [],
   "source": [
    "bin_pop = pd.merge(dan_loc,pop_data,how=\"inner\",on =\"행정구역별(시군구)\")"
   ]
  },
  {
   "cell_type": "code",
   "execution_count": 69,
   "id": "474a731e-8359-45c2-b19b-972c62770607",
   "metadata": {},
   "outputs": [
    {
     "data": {
      "text/plain": [
       "행정구역별(시군구)    0\n",
       "빈집비율          0\n",
       "빈집수(호)        0\n",
       "전체주택(호)       0\n",
       "인구_2020       0\n",
       "dtype: int64"
      ]
     },
     "execution_count": 69,
     "metadata": {},
     "output_type": "execute_result"
    }
   ],
   "source": [
    "bin_pop.isnull().sum()"
   ]
  },
  {
   "cell_type": "code",
   "execution_count": 71,
   "id": "ff2aae0a-68c2-49fd-aa61-696229a0d40c",
   "metadata": {},
   "outputs": [
    {
     "data": {
      "text/html": [
       "<div>\n",
       "<style scoped>\n",
       "    .dataframe tbody tr th:only-of-type {\n",
       "        vertical-align: middle;\n",
       "    }\n",
       "\n",
       "    .dataframe tbody tr th {\n",
       "        vertical-align: top;\n",
       "    }\n",
       "\n",
       "    .dataframe thead th {\n",
       "        text-align: right;\n",
       "    }\n",
       "</style>\n",
       "<table border=\"1\" class=\"dataframe\">\n",
       "  <thead>\n",
       "    <tr style=\"text-align: right;\">\n",
       "      <th></th>\n",
       "      <th>행정구역별(시군구)</th>\n",
       "      <th>빈집비율</th>\n",
       "      <th>빈집수(호)</th>\n",
       "      <th>전체주택(호)</th>\n",
       "      <th>인구_2020</th>\n",
       "    </tr>\n",
       "  </thead>\n",
       "  <tbody>\n",
       "    <tr>\n",
       "      <th>0</th>\n",
       "      <td>부산광역시 동구</td>\n",
       "      <td>11.6</td>\n",
       "      <td>3902</td>\n",
       "      <td>33775</td>\n",
       "      <td>86801.0</td>\n",
       "    </tr>\n",
       "    <tr>\n",
       "      <th>1</th>\n",
       "      <td>부산광역시 서구</td>\n",
       "      <td>10.2</td>\n",
       "      <td>4241</td>\n",
       "      <td>41592</td>\n",
       "      <td>105948.0</td>\n",
       "    </tr>\n",
       "    <tr>\n",
       "      <th>2</th>\n",
       "      <td>부산광역시 영도구</td>\n",
       "      <td>10.9</td>\n",
       "      <td>5087</td>\n",
       "      <td>46617</td>\n",
       "      <td>113042.5</td>\n",
       "    </tr>\n",
       "    <tr>\n",
       "      <th>3</th>\n",
       "      <td>대구광역시 남구</td>\n",
       "      <td>6.5</td>\n",
       "      <td>2782</td>\n",
       "      <td>42607</td>\n",
       "      <td>145124.0</td>\n",
       "    </tr>\n",
       "    <tr>\n",
       "      <th>4</th>\n",
       "      <td>대구광역시 서구</td>\n",
       "      <td>2.9</td>\n",
       "      <td>1505</td>\n",
       "      <td>51379</td>\n",
       "      <td>170922.5</td>\n",
       "    </tr>\n",
       "  </tbody>\n",
       "</table>\n",
       "</div>"
      ],
      "text/plain": [
       "  행정구역별(시군구)  빈집비율  빈집수(호)  전체주택(호)   인구_2020\n",
       "0   부산광역시 동구  11.6    3902    33775   86801.0\n",
       "1   부산광역시 서구  10.2    4241    41592  105948.0\n",
       "2  부산광역시 영도구  10.9    5087    46617  113042.5\n",
       "3   대구광역시 남구   6.5    2782    42607  145124.0\n",
       "4   대구광역시 서구   2.9    1505    51379  170922.5"
      ]
     },
     "execution_count": 71,
     "metadata": {},
     "output_type": "execute_result"
    }
   ],
   "source": [
    "bin_pop.head()"
   ]
  },
  {
   "cell_type": "code",
   "execution_count": 116,
   "id": "e9d269cb-4b50-47a7-8f7e-88511edc40ad",
   "metadata": {},
   "outputs": [],
   "source": [
    "#bin_pop.to_csv(\"./data/빈집데이터_최종.csv\")"
   ]
  },
  {
   "cell_type": "code",
   "execution_count": 115,
   "id": "ff2a80a1-7622-4ee7-82d3-bcfbf61b4d19",
   "metadata": {},
   "outputs": [
    {
     "data": {
      "text/html": [
       "<div>\n",
       "<style scoped>\n",
       "    .dataframe tbody tr th:only-of-type {\n",
       "        vertical-align: middle;\n",
       "    }\n",
       "\n",
       "    .dataframe tbody tr th {\n",
       "        vertical-align: top;\n",
       "    }\n",
       "\n",
       "    .dataframe thead th {\n",
       "        text-align: right;\n",
       "    }\n",
       "</style>\n",
       "<table border=\"1\" class=\"dataframe\">\n",
       "  <thead>\n",
       "    <tr style=\"text-align: right;\">\n",
       "      <th></th>\n",
       "      <th>행정구역별(시군구)</th>\n",
       "      <th>빈집비율</th>\n",
       "      <th>빈집수(호)</th>\n",
       "      <th>전체주택(호)</th>\n",
       "      <th>인구_2020</th>\n",
       "    </tr>\n",
       "  </thead>\n",
       "  <tbody>\n",
       "    <tr>\n",
       "      <th>3</th>\n",
       "      <td>대구광역시 남구</td>\n",
       "      <td>6.5</td>\n",
       "      <td>2782</td>\n",
       "      <td>42607</td>\n",
       "      <td>145124.0</td>\n",
       "    </tr>\n",
       "    <tr>\n",
       "      <th>4</th>\n",
       "      <td>대구광역시 서구</td>\n",
       "      <td>2.9</td>\n",
       "      <td>1505</td>\n",
       "      <td>51379</td>\n",
       "      <td>170922.5</td>\n",
       "    </tr>\n",
       "    <tr>\n",
       "      <th>68</th>\n",
       "      <td>경상북도 안동시</td>\n",
       "      <td>14.8</td>\n",
       "      <td>10371</td>\n",
       "      <td>69997</td>\n",
       "      <td>158634.0</td>\n",
       "    </tr>\n",
       "  </tbody>\n",
       "</table>\n",
       "</div>"
      ],
      "text/plain": [
       "   행정구역별(시군구)  빈집비율  빈집수(호)  전체주택(호)   인구_2020\n",
       "3    대구광역시 남구   6.5    2782    42607  145124.0\n",
       "4    대구광역시 서구   2.9    1505    51379  170922.5\n",
       "68   경상북도 안동시  14.8   10371    69997  158634.0"
      ]
     },
     "execution_count": 115,
     "metadata": {},
     "output_type": "execute_result"
    }
   ],
   "source": [
    "bin_pop[bin_pop[\"인구_2020\"]>140000]"
   ]
  },
  {
   "cell_type": "code",
   "execution_count": 127,
   "id": "ae8db7db-d240-4498-b7aa-7aa10ad1ec7b",
   "metadata": {},
   "outputs": [
    {
     "data": {
      "text/plain": [
       "<Figure size 700x700 with 0 Axes>"
      ]
     },
     "execution_count": 127,
     "metadata": {},
     "output_type": "execute_result"
    },
    {
     "data": {
      "text/plain": [
       "<AxesSubplot:xlabel='인구_2020', ylabel='빈집비율'>"
      ]
     },
     "execution_count": 127,
     "metadata": {},
     "output_type": "execute_result"
    },
    {
     "data": {
      "text/plain": [
       "Text(133124.0, 6.8, '대구광역시 남구')"
      ]
     },
     "execution_count": 127,
     "metadata": {},
     "output_type": "execute_result"
    },
    {
     "data": {
      "text/plain": [
       "Text(158922.5, 3.1999999999999997, '대구광역시 서구')"
      ]
     },
     "execution_count": 127,
     "metadata": {},
     "output_type": "execute_result"
    },
    {
     "data": {
      "text/plain": [
       "Text(19627.5, 24.0, '강원도 양양군')"
      ]
     },
     "execution_count": 127,
     "metadata": {},
     "output_type": "execute_result"
    },
    {
     "data": {
      "text/plain": [
       "Text(33489.0, 25.5, '강원도 평창군')"
      ]
     },
     "execution_count": 127,
     "metadata": {},
     "output_type": "execute_result"
    },
    {
     "data": {
      "text/plain": [
       "Text(55651.0, 21.8, '전라남도 영암군')"
      ]
     },
     "execution_count": 127,
     "metadata": {},
     "output_type": "execute_result"
    },
    {
     "data": {
      "text/plain": [
       "Text(146634.0, 15.100000000000001, '경상북도 안동시')"
      ]
     },
     "execution_count": 127,
     "metadata": {},
     "output_type": "execute_result"
    },
    {
     "data": {
      "text/plain": [
       "Text(32278.5, 19.799999999999997, '경상북도 청도군')"
      ]
     },
     "execution_count": 127,
     "metadata": {},
     "output_type": "execute_result"
    },
    {
     "data": {
      "text/plain": [
       "Text(29004.5, 21.8, '경상남도 남해군')"
      ]
     },
     "execution_count": 127,
     "metadata": {},
     "output_type": "execute_result"
    },
    {
     "data": {
      "text/plain": [
       "Text(34159.5, 20.8, '경상남도 합천군')"
      ]
     },
     "execution_count": 127,
     "metadata": {},
     "output_type": "execute_result"
    },
    {
     "data": {
      "text/plain": [
       "Text(0.5, 1.0, '인구수 대비 빈집비율(2020년)')"
      ]
     },
     "execution_count": 127,
     "metadata": {},
     "output_type": "execute_result"
    },
    {
     "data": {
      "text/plain": [
       "Text(0.5, 0, '인구수(명)')"
      ]
     },
     "execution_count": 127,
     "metadata": {},
     "output_type": "execute_result"
    },
    {
     "data": {
      "text/plain": [
       "Text(0, 0.5, '빈집비율')"
      ]
     },
     "execution_count": 127,
     "metadata": {},
     "output_type": "execute_result"
    },
    {
     "data": {
      "image/png": "[encoded data removed]",
      "text/plain": [
       "<Figure size 700x700 with 1 Axes>"
      ]
     },
     "metadata": {},
     "output_type": "display_data"
    }
   ],
   "source": [
    "plt.figure(figsize=(7,7))\n",
    "sns.scatterplot(data = bin_pop, x = \"인구_2020\",y = \"빈집비율\", color = \"#ff5050\")\n",
    "for i in range(len(bin_pop)): # 행 개수만큼 순회\n",
    "    row = bin_pop.iloc[i] # 한 행씩 꺼내기\n",
    "    name = row['행정구역별(시군구)'] # 이름이 저장된 열\n",
    "    x = row['인구_2020'] # x좌표가 저장된 열\n",
    "    y = row['빈집비율'] # y좌표가 저장된 열\n",
    "    if name in ['강원도 양양군','강원도 평창군']:\n",
    "        plt.text(x-8000, y+0.3, name, fontsize=7)\n",
    "    elif name in ['전라남도 영암군']:\n",
    "        plt.text(x+2000, y, name, fontsize=7)\n",
    "    elif name in [\"경상남도 남해군\"]:\n",
    "        plt.text(x-14000, y+0.3, name, fontsize=7)     \n",
    "    elif name in [\"경상남도 합천군\"]:\n",
    "        plt.text(x-10000, y+0.3, name, fontsize=7)   \n",
    "    elif name in [\"경상북도 청도군\"]:\n",
    "        plt.text(x-10000, y-0.6, name, fontsize=7)   \n",
    "    elif name in [\"대구광역시 남구\", \"대구광역시 서구\",\"경상북도 안동시\"]:\n",
    "        plt.text(x-12000, y+0.3, name, fontsize=7)   \n",
    "    elif name in [\"대구광역시 서구\"]:\n",
    "        plt.text(x-80000, y+0.3, name, fontsize=7)  \n",
    "    else :\n",
    "        pass    \n",
    "plt.title(\"인구수 대비 빈집비율(2020년)\")\n",
    "plt.xlabel(\"인구수(명)\")\n",
    "plt.ylabel(\"빈집비율\")\n",
    "plt.grid()\n",
    "plt.savefig(\"./output/인구수 대비 빈집비율(2020년).png\")"
   ]
  },
  {
   "cell_type": "code",
   "execution_count": 140,
   "id": "c2b4c8f4-e306-477d-95b8-a7b49f8505b9",
   "metadata": {
    "tags": []
   },
   "outputs": [
    {
     "data": {
      "text/html": [
       "<div>\n",
       "<style scoped>\n",
       "    .dataframe tbody tr th:only-of-type {\n",
       "        vertical-align: middle;\n",
       "    }\n",
       "\n",
       "    .dataframe tbody tr th {\n",
       "        vertical-align: top;\n",
       "    }\n",
       "\n",
       "    .dataframe thead th {\n",
       "        text-align: right;\n",
       "    }\n",
       "</style>\n",
       "<table border=\"1\" class=\"dataframe\">\n",
       "  <thead>\n",
       "    <tr style=\"text-align: right;\">\n",
       "      <th></th>\n",
       "      <th>행정구역별(시군구)</th>\n",
       "      <th>빈집비율</th>\n",
       "      <th>빈집수(호)</th>\n",
       "      <th>전체주택(호)</th>\n",
       "      <th>인구_2020</th>\n",
       "    </tr>\n",
       "  </thead>\n",
       "  <tbody>\n",
       "    <tr>\n",
       "      <th>12</th>\n",
       "      <td>강원도 양양군</td>\n",
       "      <td>23.7</td>\n",
       "      <td>3414</td>\n",
       "      <td>14401</td>\n",
       "      <td>27627.5</td>\n",
       "    </tr>\n",
       "    <tr>\n",
       "      <th>17</th>\n",
       "      <td>강원도 평창군</td>\n",
       "      <td>25.2</td>\n",
       "      <td>5504</td>\n",
       "      <td>21801</td>\n",
       "      <td>41489.0</td>\n",
       "    </tr>\n",
       "    <tr>\n",
       "      <th>54</th>\n",
       "      <td>전라남도 영암군</td>\n",
       "      <td>21.8</td>\n",
       "      <td>5981</td>\n",
       "      <td>27410</td>\n",
       "      <td>53651.0</td>\n",
       "    </tr>\n",
       "    <tr>\n",
       "      <th>76</th>\n",
       "      <td>경상북도 청도군</td>\n",
       "      <td>20.4</td>\n",
       "      <td>4435</td>\n",
       "      <td>21748</td>\n",
       "      <td>42278.5</td>\n",
       "    </tr>\n",
       "    <tr>\n",
       "      <th>80</th>\n",
       "      <td>경상남도 남해군</td>\n",
       "      <td>21.5</td>\n",
       "      <td>4929</td>\n",
       "      <td>22950</td>\n",
       "      <td>43004.5</td>\n",
       "    </tr>\n",
       "    <tr>\n",
       "      <th>88</th>\n",
       "      <td>경상남도 합천군</td>\n",
       "      <td>20.5</td>\n",
       "      <td>4794</td>\n",
       "      <td>23435</td>\n",
       "      <td>44159.5</td>\n",
       "    </tr>\n",
       "  </tbody>\n",
       "</table>\n",
       "</div>"
      ],
      "text/plain": [
       "   행정구역별(시군구)  빈집비율  빈집수(호)  전체주택(호)  인구_2020\n",
       "12    강원도 양양군  23.7    3414    14401  27627.5\n",
       "17    강원도 평창군  25.2    5504    21801  41489.0\n",
       "54   전라남도 영암군  21.8    5981    27410  53651.0\n",
       "76   경상북도 청도군  20.4    4435    21748  42278.5\n",
       "80   경상남도 남해군  21.5    4929    22950  43004.5\n",
       "88   경상남도 합천군  20.5    4794    23435  44159.5"
      ]
     },
     "execution_count": 140,
     "metadata": {},
     "output_type": "execute_result"
    }
   ],
   "source": [
    "bin_pop[bin_pop[\"빈집비율\"]>20]"
   ]
  },
  {
   "cell_type": "code",
   "execution_count": 161,
   "id": "0c9a5f88-f8ac-489c-9084-d8e55cf1acdd",
   "metadata": {},
   "outputs": [
    {
     "data": {
      "text/plain": [
       "<Figure size 700x700 with 0 Axes>"
      ]
     },
     "execution_count": 161,
     "metadata": {},
     "output_type": "execute_result"
    },
    {
     "data": {
      "text/plain": [
       "<AxesSubplot:xlabel='전체주택(호)', ylabel='빈집비율'>"
      ]
     },
     "execution_count": 161,
     "metadata": {},
     "output_type": "execute_result"
    },
    {
     "data": {
      "text/plain": [
       "Text(46879, 3.3, '대구광역시 서구')"
      ]
     },
     "execution_count": 161,
     "metadata": {},
     "output_type": "execute_result"
    },
    {
     "data": {
      "text/plain": [
       "Text(9901, 24.099999999999998, '강원도 양양군')"
      ]
     },
     "execution_count": 161,
     "metadata": {},
     "output_type": "execute_result"
    },
    {
     "data": {
      "text/plain": [
       "Text(17301, 25.599999999999998, '강원도 평창군')"
      ]
     },
     "execution_count": 161,
     "metadata": {},
     "output_type": "execute_result"
    },
    {
     "data": {
      "text/plain": [
       "Text(53340, 12.0, '충청북도 제천시')"
      ]
     },
     "execution_count": 161,
     "metadata": {},
     "output_type": "execute_result"
    },
    {
     "data": {
      "text/plain": [
       "Text(24110, 22.1, '전라남도 영암군')"
      ]
     },
     "execution_count": 161,
     "metadata": {},
     "output_type": "execute_result"
    },
    {
     "data": {
      "text/plain": [
       "Text(65497, 15.200000000000001, '경상북도 안동시')"
      ]
     },
     "execution_count": 161,
     "metadata": {},
     "output_type": "execute_result"
    },
    {
     "data": {
      "text/plain": [
       "Text(16248, 19.799999999999997, '경상북도 청도군')"
      ]
     },
     "execution_count": 161,
     "metadata": {},
     "output_type": "execute_result"
    },
    {
     "data": {
      "text/plain": [
       "Text(16450, 21.8, '경상남도 남해군')"
      ]
     },
     "execution_count": 161,
     "metadata": {},
     "output_type": "execute_result"
    },
    {
     "data": {
      "text/plain": [
       "Text(17935, 20.8, '경상남도 합천군')"
      ]
     },
     "execution_count": 161,
     "metadata": {},
     "output_type": "execute_result"
    },
    {
     "data": {
      "text/plain": [
       "Text(0.5, 1.0, '전체 주택수 대비 빈집비율(2020년)')"
      ]
     },
     "execution_count": 161,
     "metadata": {},
     "output_type": "execute_result"
    },
    {
     "data": {
      "text/plain": [
       "Text(0.5, 0, '전체주택(호)')"
      ]
     },
     "execution_count": 161,
     "metadata": {},
     "output_type": "execute_result"
    },
    {
     "data": {
      "text/plain": [
       "Text(0, 0.5, '빈집비율')"
      ]
     },
     "execution_count": 161,
     "metadata": {},
     "output_type": "execute_result"
    },
    {
     "data": {
      "image/png": "[encoded data removed]",
      "text/plain": [
       "<Figure size 700x700 with 1 Axes>"
      ]
     },
     "metadata": {},
     "output_type": "display_data"
    }
   ],
   "source": [
    "plt.figure(figsize=(7,7))\n",
    "sns.scatterplot(data = bin_pop, x = \"전체주택(호)\",y = \"빈집비율\", color = \"#ff5050\")\n",
    "for i in range(len(bin_pop)): # 행 개수만큼 순회\n",
    "    row = bin_pop.iloc[i] # 한 행씩 꺼내기\n",
    "    name = row['행정구역별(시군구)'] # 이름이 저장된 열\n",
    "    x = row['전체주택(호)'] # x좌표가 저장된 열\n",
    "    y = row['빈집비율'] # y좌표가 저장된 열\n",
    "    if name in [\"대구광역시 서구\", \"충청북도 제천시\",\"경상북도 안동시\"]:\n",
    "        plt.text(x-4500, y+0.4, name, fontsize=7) \n",
    "    elif name in ['강원도 양양군',\"강원도 평창군\"]:\n",
    "        plt.text(x-4500, y+0.4, name, fontsize=7) \n",
    "    elif name in [\"전라남도 영암군\"]:\n",
    "        plt.text(x-3300, y+0.3, name, fontsize=7) \n",
    "    elif name in [\"경상남도 남해군\"]:\n",
    "        plt.text(x-6500, y+0.3, name, fontsize=7) \n",
    "    elif name in [\"경상남도 합천군\"]:\n",
    "        plt.text(x-5500, y+0.3, name, fontsize=7) \n",
    "    elif name in [\"경상북도 청도군\"]:\n",
    "        plt.text(x-5500, y-0.6, name, fontsize=7) \n",
    "    else :\n",
    "        pass    \n",
    "plt.title(\"전체 주택수 대비 빈집비율(2020년)\")\n",
    "plt.xlabel(\"전체주택(호)\")\n",
    "plt.ylabel(\"빈집비율\")\n",
    "plt.grid()\n",
    "plt.savefig(\"./output/전체 주택수 대비 빈집비율(2020년)r.png\")"
   ]
  },
  {
   "cell_type": "code",
   "execution_count": null,
   "id": "b4c59f51-f6a5-4529-be3d-968c2f2c2d2d",
   "metadata": {},
   "outputs": [],
   "source": []
  }
 ],
 "metadata": {
  "kernelspec": {
   "display_name": "Python 3 (ipykernel)",
   "language": "python",
   "name": "python3"
  },
  "language_info": {
   "codemirror_mode": {
    "name": "ipython",
    "version": 3
   },
   "file_extension": ".py",
   "mimetype": "text/x-python",
   "name": "python",
   "nbconvert_exporter": "python",
   "pygments_lexer": "ipython3",
   "version": "3.9.15"
  }
 },
 "nbformat": 4,
 "nbformat_minor": 5
}
